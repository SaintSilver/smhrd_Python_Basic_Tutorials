{
 "cells": [
  {
   "cell_type": "code",
   "execution_count": 2,
   "metadata": {},
   "outputs": [
    {
     "name": "stdout",
     "output_type": "stream",
     "text": [
      "300\n"
     ]
    }
   ],
   "source": [
    "a = 100\n",
    "b = 200\n",
    "sum = a+b\n",
    "print(sum)"
   ]
  },
  {
   "cell_type": "code",
   "execution_count": 3,
   "metadata": {
    "scrolled": true
   },
   "outputs": [
    {
     "name": "stdout",
     "output_type": "stream",
     "text": [
      "반갑습니다반갑습니다반갑습니다반갑습니다반갑습니다반갑습니다반갑습니다반갑습니다반갑습니다반갑습니다\n",
      "8\n"
     ]
    }
   ],
   "source": [
    "print(\"반갑습니다\"*10)\n",
    "x =7\n",
    "y =1\n",
    "print(x+y)"
   ]
  },
  {
   "cell_type": "code",
   "execution_count": 4,
   "metadata": {},
   "outputs": [
    {
     "name": "stdout",
     "output_type": "stream",
     "text": [
      "20 과 30 의 합은 50 입니다.\n"
     ]
    }
   ],
   "source": [
    "xx = 20\n",
    "yy = 30\n",
    "sum = xx +yy\n",
    "print(xx,\"과\",yy,\"의 합은\",sum,\"입니다.\")"
   ]
  },
  {
   "cell_type": "code",
   "execution_count": null,
   "metadata": {
    "collapsed": true
   },
   "outputs": [],
   "source": []
  },
  {
   "cell_type": "code",
   "execution_count": 5,
   "metadata": {},
   "outputs": [
    {
     "name": "stdout",
     "output_type": "stream",
     "text": [
      "정수를입력하세요 : 50\n",
      "50\n"
     ]
    }
   ],
   "source": [
    "x = int(input(\"정수를입력하세요 : \"))\n",
    "print(x)"
   ]
  },
  {
   "cell_type": "code",
   "execution_count": 6,
   "metadata": {
    "scrolled": false
   },
   "outputs": [
    {
     "name": "stdout",
     "output_type": "stream",
     "text": [
      "첫 번째 수 : 50\n",
      "두 번쨰 수 : 50\n",
      "50 와 50 의 합은 100 입니다.\n"
     ]
    }
   ],
   "source": [
    "inputX = int(input(\"첫 번째 수 : \"))\n",
    "inputY = int(input(\"두 번쨰 수 : \"))\n",
    "SUM = inputX + inputY\n",
    "print(inputX,\"와\",inputY,\"의 합은\",SUM,\"입니다.\")"
   ]
  },
  {
   "cell_type": "code",
   "execution_count": 7,
   "metadata": {
    "scrolled": true
   },
   "outputs": [
    {
     "name": "stdout",
     "output_type": "stream",
     "text": [
      "이름을 입력하세요 : 50\n",
      "50 씨 안녕하세요?\n",
      "파이썬에 오신 것을 환영합니다.\n"
     ]
    }
   ],
   "source": [
    "name = input(\"이름을 입력하세요 : \")\n",
    "print(name, \"씨 안녕하세요?\")\n",
    "print(\"파이썬에 오신 것을 환영합니다.\")"
   ]
  },
  {
   "cell_type": "code",
   "execution_count": 8,
   "metadata": {},
   "outputs": [
    {
     "name": "stdout",
     "output_type": "stream",
     "text": [
      "분자를 입력하세요 : 50\n",
      "분모를 입력하세요 : 50\n",
      "나눗셈의 몫 :  1\n",
      "나눗셈의 나머지 :  0\n"
     ]
    }
   ],
   "source": [
    "son = int(input(\"분자를 입력하세요 : \"))\n",
    "mother = int(input(\"분모를 입력하세요 : \"))\n",
    "print(\"나눗셈의 몫 : \", son//mother)\n",
    "print(\"나눗셈의 나머지 : \", son%mother)"
   ]
  },
  {
   "cell_type": "code",
   "execution_count": 9,
   "metadata": {},
   "outputs": [
    {
     "name": "stdout",
     "output_type": "stream",
     "text": [
      "아메리카노 판매 개수 : 50\n",
      "카페라떼 판매 개수 : 01\n",
      "카푸치노 판매 개수 : 1\n",
      "총 매출은 106500 입니다.\n"
     ]
    }
   ],
   "source": [
    "americano_price = 2000\n",
    "cafelatte_price = 3000\n",
    "capucino_price = 3500\n",
    "\n",
    "americanos = int(input(\"아메리카노 판매 개수 : \"))\n",
    "cafelattes = int(input(\"카페라떼 판매 개수 : \"))\n",
    "capucinos = int(input(\"카푸치노 판매 개수 : \"))\n",
    "\n",
    "sales = americanos*americano_price\n",
    "sales = sales + cafelattes*cafelatte_price\n",
    "sales = sales + capucinos*capucino_price\n",
    "print(\"총 매출은\", sales, \"입니다.\")"
   ]
  },
  {
   "cell_type": "code",
   "execution_count": 10,
   "metadata": {},
   "outputs": [
    {
     "name": "stdout",
     "output_type": "stream",
     "text": [
      "화씨 온도를 입력해주세요 : 1\n",
      "화씨온도: 1\n",
      "섭씨온도: -17.22222222222222\n"
     ]
    }
   ],
   "source": [
    "hwaDegree = int(input(\"화씨 온도를 입력해주세요 : \"))\n",
    "subDegree = (hwaDegree-32)*5/9\n",
    "print(\"화씨온도:\",hwaDegree)\n",
    "print(\"섭씨온도:\",subDegree)"
   ]
  },
  {
   "cell_type": "code",
   "execution_count": 11,
   "metadata": {},
   "outputs": [
    {
     "name": "stdout",
     "output_type": "stream",
     "text": [
      "투입한 금액: 1\n",
      "물건의 가격: 1\n",
      "거스름돈 : 500원× 0 ,100원× 0\n"
     ]
    }
   ],
   "source": [
    "inputMoney = int(input(\"투입한 금액: \"))\n",
    "objectPrice = int(input(\"물건의 가격: \"))\n",
    "remainedMoney = inputMoney-objectPrice\n",
    "coin500 = remainedMoney//500\n",
    "coin100 = (remainedMoney%500)//100\n",
    "print(\"거스름돈 : 500원×\",coin500,\",100원×\",coin100)"
   ]
  },
  {
   "cell_type": "code",
   "execution_count": 12,
   "metadata": {},
   "outputs": [
    {
     "name": "stdout",
     "output_type": "stream",
     "text": [
      "초깃값 x =  1000\n",
      "x += 2 후의 x = 1002\n",
      "x -= 3 후의 x = 999\n"
     ]
    }
   ],
   "source": [
    "x = 1000\n",
    "print(\"초깃값 x = \",x)\n",
    "x+=2\n",
    "print(\"x += 2 후의 x =\",x)\n",
    "x-=3\n",
    "print(\"x -= 3 후의 x =\",x)\n",
    "\n"
   ]
  },
  {
   "cell_type": "code",
   "execution_count": 13,
   "metadata": {},
   "outputs": [
    {
     "data": {
      "text/plain": [
       "20.0"
      ]
     },
     "execution_count": 13,
     "metadata": {},
     "output_type": "execute_result"
    }
   ],
   "source": [
    "10+20/2"
   ]
  },
  {
   "cell_type": "code",
   "execution_count": 14,
   "metadata": {},
   "outputs": [
    {
     "data": {
      "text/plain": [
       "15.0"
      ]
     },
     "execution_count": 14,
     "metadata": {},
     "output_type": "execute_result"
    }
   ],
   "source": [
    "(10+20)/2"
   ]
  },
  {
   "cell_type": "code",
   "execution_count": 15,
   "metadata": {},
   "outputs": [
    {
     "name": "stdout",
     "output_type": "stream",
     "text": [
      "정수를 입력하시오:1\n",
      "정수를 입력하시오:1\n",
      "2\n"
     ]
    }
   ],
   "source": [
    "t = input(\"정수를 입력하시오:\")\n",
    "x = int(t)\n",
    "t = input(\"정수를 입력하시오:\")\n",
    "y= int(t)\n",
    "print(x+y)"
   ]
  },
  {
   "cell_type": "code",
   "execution_count": 16,
   "metadata": {},
   "outputs": [
    {
     "name": "stdout",
     "output_type": "stream",
     "text": [
      "나는 현재21살이다.\n",
      "나는 현재3.14살이다.\n"
     ]
    }
   ],
   "source": [
    "print('나는 현재'+str(21)+'살이다.')\n",
    "print('나는 현재'+str(3.14)+'살이다.')"
   ]
  },
  {
   "cell_type": "code",
   "execution_count": 17,
   "metadata": {},
   "outputs": [
    {
     "name": "stdout",
     "output_type": "stream",
     "text": [
      "상품의 가격은 10000원입니다.\n"
     ]
    }
   ],
   "source": [
    "price = 10000\n",
    "print(\"상품의 가격은 %s원입니다.\"%price)"
   ]
  },
  {
   "cell_type": "code",
   "execution_count": 18,
   "metadata": {},
   "outputs": [
    {
     "name": "stdout",
     "output_type": "stream",
     "text": [
      "ne\n"
     ]
    }
   ],
   "source": [
    "s = \"ShowMeTheMoney\"\n",
    "print(s[-3:-1]) #작은 수부터 큰 수 순서로 써줘야 한다. "
   ]
  },
  {
   "cell_type": "code",
   "execution_count": 19,
   "metadata": {
    "scrolled": true
   },
   "outputs": [
    {
     "name": "stdout",
     "output_type": "stream",
     "text": [
      "말 한 마디로 \n",
      " 천 냥 빚을 갚는다.\n"
     ]
    }
   ],
   "source": [
    "print(\"말 한 마디로 \\n 천 냥 빚을 갚는다.\")"
   ]
  },
  {
   "cell_type": "code",
   "execution_count": 20,
   "metadata": {},
   "outputs": [
    {
     "name": "stdout",
     "output_type": "stream",
     "text": [
      "사회\n"
     ]
    }
   ],
   "source": [
    "slist = [\"영어\",\"수학\",\"과학\",\"사회\"]\n",
    "print(slist[3])\n",
    "slist2 = [0]\n"
   ]
  },
  {
   "cell_type": "code",
   "execution_count": 21,
   "metadata": {},
   "outputs": [
    {
     "data": {
      "text/plain": [
       "3"
      ]
     },
     "execution_count": 21,
     "metadata": {},
     "output_type": "execute_result"
    }
   ],
   "source": [
    "irlist = []\n",
    "irlist.append(3)\n",
    "irlist[0]"
   ]
  },
  {
   "cell_type": "code",
   "execution_count": 22,
   "metadata": {
    "collapsed": true
   },
   "outputs": [],
   "source": [
    "bestFriend = [\"김정은\",\"오바마\",\"마가렛데처\",\"문재인\",\"클린턴\"]"
   ]
  },
  {
   "cell_type": "code",
   "execution_count": 23,
   "metadata": {},
   "outputs": [
    {
     "name": "stdout",
     "output_type": "stream",
     "text": [
      "김정은\n",
      "오바마\n",
      "마가렛데처\n",
      "문재인\n",
      "클린턴\n"
     ]
    }
   ],
   "source": [
    "print(bestFriend[0])\n",
    "print(bestFriend[1])\n",
    "print(bestFriend[2])\n",
    "print(bestFriend[3])\n",
    "print(bestFriend[4])"
   ]
  },
  {
   "cell_type": "code",
   "execution_count": 24,
   "metadata": {},
   "outputs": [
    {
     "name": "stdout",
     "output_type": "stream",
     "text": [
      "친구의 이름을 입력하세요:1\n",
      "친구의 이름을 입력하세요:1\n",
      "친구의 이름을 입력하세요:1\n",
      "친구의 이름을 입력하세요:1\n",
      "친구의 이름을 입력하세요:1\n",
      "['1', '1', '1', '1', '1']\n"
     ]
    }
   ],
   "source": [
    "friend_list = []\n",
    "friend = input(\"친구의 이름을 입력하세요:\")\n",
    "friend_list.append(friend)\n",
    "friend = input(\"친구의 이름을 입력하세요:\")\n",
    "friend_list.append(friend)\n",
    "friend = input(\"친구의 이름을 입력하세요:\")\n",
    "friend_list.append(friend)\n",
    "friend = input(\"친구의 이름을 입력하세요:\")\n",
    "friend_list.append(friend)\n",
    "friend = input(\"친구의 이름을 입력하세요:\")\n",
    "friend_list.append(friend)\n",
    "print(friend_list)"
   ]
  },
  {
   "cell_type": "code",
   "execution_count": 25,
   "metadata": {},
   "outputs": [
    {
     "name": "stdout",
     "output_type": "stream",
     "text": [
      "성적을 입력하시오:1\n",
      "불합격\n"
     ]
    }
   ],
   "source": [
    "score = int(input(\"성적을 입력하시오:\"))\n",
    "if score>=120:\n",
    "    print(\"합격\")\n",
    "else:\n",
    "    print(\"불합격\")"
   ]
  },
  {
   "cell_type": "code",
   "execution_count": 26,
   "metadata": {},
   "outputs": [
    {
     "name": "stdout",
     "output_type": "stream",
     "text": [
      "Please Type Number : 1\n",
      "Typed Number is odd Number\n"
     ]
    }
   ],
   "source": [
    "num = int(input(\"Please Type Number : \"))\n",
    "if num%2==0:\n",
    "    print(\"Typed Number is Even Number\")\n",
    "else:\n",
    "    print(\"Typed Number is odd Number\")"
   ]
  },
  {
   "cell_type": "code",
   "execution_count": 28,
   "metadata": {},
   "outputs": [
    {
     "name": "stdout",
     "output_type": "stream",
     "text": [
      "나이를 입력하세요 : 30\n",
      "이 영화를 보실 수 있습니다.\n"
     ]
    }
   ],
   "source": [
    "yourAge=int(input(\"나이를 입력하세요 : \"))\n",
    "if yourAge>20:\n",
    "    print(\"이 영화를 보실 수 있습니다.\")\n",
    "else:\n",
    "    print(\"이 영화를 보실 수 없습니다.\")"
   ]
  },
  {
   "cell_type": "code",
   "execution_count": 1,
   "metadata": {
    "scrolled": true
   },
   "outputs": [
    {
     "name": "stdout",
     "output_type": "stream",
     "text": [
      "연도를 입력하세요 : 2016\n",
      "2016 년은 윤년이 아닙니다. \n"
     ]
    }
   ],
   "source": [
    "year = int(input(\"연도를 입력하세요 : \"))\n",
    "if ((year%4 == 0 and year%100 !=0) | year%400 ==0):\n",
    "    print(year, \"년은 윤년입니다.\")\n",
    "else:\n",
    "    print(year, \"년은 윤년이 아닙니다. \")"
   ]
  },
  {
   "cell_type": "code",
   "execution_count": 2,
   "metadata": {
    "scrolled": true
   },
   "outputs": [
    {
     "name": "stdout",
     "output_type": "stream",
     "text": [
      "동전 던지기 게임을 시작합니다.\n",
      "[12, 44, 12, 11, 12, 26]\n"
     ]
    }
   ],
   "source": [
    "import random\n",
    "\n",
    "print(\"동전 던지기 게임을 시작합니다.\")\n",
    "lottoList=[]\n",
    "\n",
    "num = random.randrange(45)+1\n",
    "lottoList.append(num)\n",
    "num = random.randrange(45)+1\n",
    "lottoList.append(num)\n",
    "num = random.randrange(45)+1\n",
    "lottoList.append(num)\n",
    "num = random.randrange(45)+1\n",
    "lottoList.append(num)\n",
    "num = random.randrange(45)+1\n",
    "lottoList.append(num)\n",
    "num = random.randrange(45)+1\n",
    "lottoList.append(num)\n",
    "\n",
    "print(lottoList)"
   ]
  },
  {
   "cell_type": "code",
   "execution_count": 12,
   "metadata": {
    "scrolled": true
   },
   "outputs": [
    {
     "name": "stdout",
     "output_type": "stream",
     "text": [
      "True\n",
      "True\n",
      "False\n",
      "True\n"
     ]
    }
   ],
   "source": [
    "print(True & True)\n",
    "print(True | True)\n",
    "print(True & False)\n",
    "print(True | False)"
   ]
  },
  {
   "cell_type": "code",
   "execution_count": 16,
   "metadata": {},
   "outputs": [
    {
     "name": "stdout",
     "output_type": "stream",
     "text": [
      "True\n",
      "True\n",
      "8\n",
      "True\n",
      "False\n",
      "True\n",
      "True\n"
     ]
    }
   ],
   "source": [
    "year = 2016\n",
    "print(year%4 == 0)\n",
    "print(year%100 !=0)\n",
    "print(42 & 24)\n",
    "print(year%4 == 0 and year%100 !=0)\n",
    "print(year%400 == 0)\n",
    "print((year%4 == 0 and year%100 !=0) | (year%400 == 0))\n",
    "print(True | False)"
   ]
  },
  {
   "cell_type": "code",
   "execution_count": 46,
   "metadata": {},
   "outputs": [
    {
     "name": "stdout",
     "output_type": "stream",
     "text": [
      "좋은 아침입니다. 지금 시각은2시 입니다.\n",
      "현재 날씨가 화창합니다.\n",
      "종달새가 노래를 하지 않는다.\n"
     ]
    }
   ],
   "source": [
    "import random\n",
    "time = random.randint(1,24)\n",
    "print(\"좋은 아침입니다. 지금 시각은\" + str(time)+\"시 입니다.\")\n",
    "\n",
    "sunny=random.choice([True,False])\n",
    "if sunny:\n",
    "    print(\"현재 날씨가 화창합니다.\")\n",
    "else:\n",
    "    print(\"현재 날씨가 화창하지 않습니다.\")\n",
    "    \n",
    "if time >= 6 and time<9 and sunny:\n",
    "    print(\"종달새가 노래를 한다.\")\n",
    "else:\n",
    "    print(\"종달새가 노래를 하지 않는다.\")"
   ]
  }
 ],
 "metadata": {
  "kernelspec": {
   "display_name": "Python 3",
   "language": "python",
   "name": "python3"
  },
  "language_info": {
   "codemirror_mode": {
    "name": "ipython",
    "version": 3
   },
   "file_extension": ".py",
   "mimetype": "text/x-python",
   "name": "python",
   "nbconvert_exporter": "python",
   "pygments_lexer": "ipython3",
   "version": "3.6.1"
  }
 },
 "nbformat": 4,
 "nbformat_minor": 2
}
