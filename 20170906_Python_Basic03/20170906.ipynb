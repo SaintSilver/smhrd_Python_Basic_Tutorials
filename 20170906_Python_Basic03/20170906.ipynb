{
 "cells": [
  {
   "cell_type": "markdown",
   "metadata": {},
   "source": [
    "# 중첩for문"
   ]
  },
  {
   "cell_type": "code",
   "execution_count": 6,
   "metadata": {},
   "outputs": [
    {
     "name": "stdout",
     "output_type": "stream",
     "text": [
      "nest[ 0 ][ 0 ]: 1\n",
      "nest[ 0 ][ 1 ]: 2\n",
      "nest[ 0 ][ 2 ]: 3\n",
      "nest[ 1 ][ 0 ]: 4\n",
      "nest[ 1 ][ 1 ]: 5\n",
      "nest[ 1 ][ 2 ]: 6\n",
      "nest[ 2 ][ 0 ]: 7\n",
      "nest[ 2 ][ 1 ]: 8\n",
      "nest[ 2 ][ 2 ]: 9\n"
     ]
    }
   ],
   "source": [
    "nest = [[1,2,3],\n",
    "        [4,5,6],\n",
    "        [7,8,9]]\n",
    "\n",
    "for x in range(3):\n",
    "    for y in range(3):\n",
    "        print ('nest[',x,'][',y,']:',nest[x][y])"
   ]
  },
  {
   "cell_type": "markdown",
   "metadata": {},
   "source": [
    "#중첩for문 (변수연결, 별 찍기)\n"
   ]
  },
  {
   "cell_type": "code",
   "execution_count": 19,
   "metadata": {},
   "outputs": [
    {
     "name": "stdout",
     "output_type": "stream",
     "text": [
      "* \n",
      "* * \n",
      "* * * \n",
      "* * * * \n",
      "* * * * * \n"
     ]
    }
   ],
   "source": [
    "for i in range(1,6):\n",
    "    for j in range(i):\n",
    "        print(\"*\",end=\" \")\n",
    "    print()"
   ]
  },
  {
   "cell_type": "code",
   "execution_count": 21,
   "metadata": {},
   "outputs": [
    {
     "name": "stdout",
     "output_type": "stream",
     "text": [
      "* * * * * \n",
      "* * * * \n",
      "* * * \n",
      "* * \n",
      "* \n"
     ]
    }
   ],
   "source": [
    "for i in range(5,0,-1):\n",
    "    for j in range(i):\n",
    "        print(\"*\",end=\" \")\n",
    "    print()"
   ]
  },
  {
   "cell_type": "code",
   "execution_count": 23,
   "metadata": {},
   "outputs": [
    {
     "name": "stdout",
     "output_type": "stream",
     "text": [
      "* * * * * \n",
      "* * * * \n",
      "* * * \n",
      "* * \n",
      "* \n"
     ]
    }
   ],
   "source": [
    "for i in range(1,6):\n",
    "    for j in range(6-i):\n",
    "        print(\"*\",end=\" \")\n",
    "    print()"
   ]
  },
  {
   "cell_type": "code",
   "execution_count": 40,
   "metadata": {
    "scrolled": true
   },
   "outputs": [
    {
     "name": "stdout",
     "output_type": "stream",
     "text": [
      "2 단:\n",
      "2 × 1 = 2\n",
      "2 × 2 = 4\n",
      "2 × 3 = 6\n",
      "2 × 4 = 8\n",
      "2 × 5 = 10\n",
      "2 × 6 = 12\n",
      "2 × 7 = 14\n",
      "2 × 8 = 16\n",
      "2 × 9 = 18\n",
      "\n",
      "3 단:\n",
      "3 × 1 = 3\n",
      "3 × 2 = 6\n",
      "3 × 3 = 9\n",
      "3 × 4 = 12\n",
      "3 × 5 = 15\n",
      "3 × 6 = 18\n",
      "3 × 7 = 21\n",
      "3 × 8 = 24\n",
      "3 × 9 = 27\n",
      "\n",
      "4 단:\n",
      "4 × 1 = 4\n",
      "4 × 2 = 8\n",
      "4 × 3 = 12\n",
      "4 × 4 = 16\n",
      "4 × 5 = 20\n",
      "4 × 6 = 24\n",
      "4 × 7 = 28\n",
      "4 × 8 = 32\n",
      "4 × 9 = 36\n",
      "\n",
      "5 단:\n",
      "5 × 1 = 5\n",
      "5 × 2 = 10\n",
      "5 × 3 = 15\n",
      "5 × 4 = 20\n",
      "5 × 5 = 25\n",
      "5 × 6 = 30\n",
      "5 × 7 = 35\n",
      "5 × 8 = 40\n",
      "5 × 9 = 45\n",
      "\n",
      "6 단:\n",
      "6 × 1 = 6\n",
      "6 × 2 = 12\n",
      "6 × 3 = 18\n",
      "6 × 4 = 24\n",
      "6 × 5 = 30\n",
      "6 × 6 = 36\n",
      "6 × 7 = 42\n",
      "6 × 8 = 48\n",
      "6 × 9 = 54\n",
      "\n",
      "7 단:\n",
      "7 × 1 = 7\n",
      "7 × 2 = 14\n",
      "7 × 3 = 21\n",
      "7 × 4 = 28\n",
      "7 × 5 = 35\n",
      "7 × 6 = 42\n",
      "7 × 7 = 49\n",
      "7 × 8 = 56\n",
      "7 × 9 = 63\n",
      "\n",
      "8 단:\n",
      "8 × 1 = 8\n",
      "8 × 2 = 16\n",
      "8 × 3 = 24\n",
      "8 × 4 = 32\n",
      "8 × 5 = 40\n",
      "8 × 6 = 48\n",
      "8 × 7 = 56\n",
      "8 × 8 = 64\n",
      "8 × 9 = 72\n",
      "\n",
      "9 단:\n",
      "9 × 1 = 9\n",
      "9 × 2 = 18\n",
      "9 × 3 = 27\n",
      "9 × 4 = 36\n",
      "9 × 5 = 45\n",
      "9 × 6 = 54\n",
      "9 × 7 = 63\n",
      "9 × 8 = 72\n",
      "9 × 9 = 81\n",
      "\n"
     ]
    }
   ],
   "source": [
    "#구구단 출력하기\n",
    "\n",
    "dan = 2;\n",
    "\n",
    "for dan in range(2,10):\n",
    "    print(dan,\"단:\")\n",
    "    for multiple in range(1,10):\n",
    "        print(dan,\"×\",multiple,\"=\",(dan*multiple),end=\"\")\n",
    "        print()\n",
    "    print()\n",
    "        "
   ]
  },
  {
   "cell_type": "code",
   "execution_count": 45,
   "metadata": {},
   "outputs": [
    {
     "name": "stdout",
     "output_type": "stream",
     "text": [
      "==============================\n",
      "2 x 1 = 2\t|\n",
      "2 x 2 = 4\t|\n",
      "2 x 3 = 6\t|\n",
      "2 x 4 = 8\t|\n",
      "2 x 5 = 10\t|\n",
      "2 x 6 = 12\t|\n",
      "2 x 7 = 14\t|\n",
      "2 x 8 = 16\t|\n",
      "2 x 9 = 18\t|\n",
      "==============================\n",
      "3 x 1 = 3\t|\n",
      "3 x 2 = 6\t|\n",
      "3 x 3 = 9\t|\n",
      "3 x 4 = 12\t|\n",
      "3 x 5 = 15\t|\n",
      "3 x 6 = 18\t|\n",
      "3 x 7 = 21\t|\n",
      "3 x 8 = 24\t|\n",
      "3 x 9 = 27\t|\n",
      "==============================\n",
      "4 x 1 = 4\t|\n",
      "4 x 2 = 8\t|\n",
      "4 x 3 = 12\t|\n",
      "4 x 4 = 16\t|\n",
      "4 x 5 = 20\t|\n",
      "4 x 6 = 24\t|\n",
      "4 x 7 = 28\t|\n",
      "4 x 8 = 32\t|\n",
      "4 x 9 = 36\t|\n",
      "==============================\n",
      "5 x 1 = 5\t|\n",
      "5 x 2 = 10\t|\n",
      "5 x 3 = 15\t|\n",
      "5 x 4 = 20\t|\n",
      "5 x 5 = 25\t|\n",
      "5 x 6 = 30\t|\n",
      "5 x 7 = 35\t|\n",
      "5 x 8 = 40\t|\n",
      "5 x 9 = 45\t|\n",
      "==============================\n",
      "6 x 1 = 6\t|\n",
      "6 x 2 = 12\t|\n",
      "6 x 3 = 18\t|\n",
      "6 x 4 = 24\t|\n",
      "6 x 5 = 30\t|\n",
      "6 x 6 = 36\t|\n",
      "6 x 7 = 42\t|\n",
      "6 x 8 = 48\t|\n",
      "6 x 9 = 54\t|\n",
      "==============================\n",
      "7 x 1 = 7\t|\n",
      "7 x 2 = 14\t|\n",
      "7 x 3 = 21\t|\n",
      "7 x 4 = 28\t|\n",
      "7 x 5 = 35\t|\n",
      "7 x 6 = 42\t|\n",
      "7 x 7 = 49\t|\n",
      "7 x 8 = 56\t|\n",
      "7 x 9 = 63\t|\n",
      "==============================\n",
      "8 x 1 = 8\t|\n",
      "8 x 2 = 16\t|\n",
      "8 x 3 = 24\t|\n",
      "8 x 4 = 32\t|\n",
      "8 x 5 = 40\t|\n",
      "8 x 6 = 48\t|\n",
      "8 x 7 = 56\t|\n",
      "8 x 8 = 64\t|\n",
      "8 x 9 = 72\t|\n",
      "==============================\n",
      "9 x 1 = 9\t|\n",
      "9 x 2 = 18\t|\n",
      "9 x 3 = 27\t|\n",
      "9 x 4 = 36\t|\n",
      "9 x 5 = 45\t|\n",
      "9 x 6 = 54\t|\n",
      "9 x 7 = 63\t|\n",
      "9 x 8 = 72\t|\n",
      "9 x 9 = 81\t|\n"
     ]
    }
   ],
   "source": [
    "#전체 구구단 출력\n",
    "\n",
    "for m in range(2,10):\n",
    "    print('='*30)\n",
    "    for n in range(1,10):\n",
    "        print(m,'x',n,'=',m*n,end=\"\\t|\\n\")\n",
    "    "
   ]
  },
  {
   "cell_type": "code",
   "execution_count": null,
   "metadata": {
    "collapsed": true
   },
   "outputs": [],
   "source": [
    "sum = 0\n",
    "while True:\n",
    "    x = int "
   ]
  },
  {
   "cell_type": "code",
   "execution_count": 51,
   "metadata": {},
   "outputs": [
    {
     "name": "stdout",
     "output_type": "stream",
     "text": [
      "8\n",
      "9\n",
      "DONE\n"
     ]
    }
   ],
   "source": [
    "for x in range(10):\n",
    "    if x<8: continue\n",
    "    print(x)\n",
    "print(\"DONE\")\n"
   ]
  },
  {
   "cell_type": "code",
   "execution_count": 53,
   "metadata": {},
   "outputs": [
    {
     "name": "stdout",
     "output_type": "stream",
     "text": [
      "8\n",
      "9\n",
      "DONE\n"
     ]
    }
   ],
   "source": [
    "for x in range(10):\n",
    "    if x<8: \n",
    "        continue\n",
    "    print(x)\n",
    "print(\"DONE\")"
   ]
  },
  {
   "cell_type": "code",
   "execution_count": 62,
   "metadata": {
    "scrolled": true
   },
   "outputs": [
    {
     "name": "stdout",
     "output_type": "stream",
     "text": [
      "1학생 합격이다. 축하한다.\n",
      "2학생 합격이다. 축하한다.\n",
      "3학생 합격이다. 축하한다.\n",
      "7학생 합격이다. 축하한다.\n"
     ]
    }
   ],
   "source": [
    "marks = [90,89,78,67,56,67,78,47,25,47,69,70,56,46,3,53,42,21,36,35,46]\n",
    "num = 0\n",
    "for i in marks:\n",
    "    num += 1\n",
    "    if i <= 70 : continue\n",
    "    print(\"%d학생 합격이다. 축하한다.\"% (num))\n",
    "    \n"
   ]
  },
  {
   "cell_type": "code",
   "execution_count": 64,
   "metadata": {},
   "outputs": [
    {
     "data": {
      "text/plain": [
       "'i have 3 apples '"
      ]
     },
     "execution_count": 64,
     "metadata": {},
     "output_type": "execute_result"
    }
   ],
   "source": [
    "\"i have %s apples \" %3"
   ]
  },
  {
   "cell_type": "code",
   "execution_count": 66,
   "metadata": {},
   "outputs": [
    {
     "data": {
      "text/plain": [
       "'        hi'"
      ]
     },
     "execution_count": 66,
     "metadata": {},
     "output_type": "execute_result"
    }
   ],
   "source": [
    "#10글자 오른쪽 정렬\n",
    "\"%10s\"%\"hi\""
   ]
  },
  {
   "cell_type": "code",
   "execution_count": 69,
   "metadata": {},
   "outputs": [
    {
     "data": {
      "text/plain": [
       "'  123'"
      ]
     },
     "execution_count": 69,
     "metadata": {},
     "output_type": "execute_result"
    }
   ],
   "source": [
    "\"%5d\"%123"
   ]
  },
  {
   "cell_type": "code",
   "execution_count": 72,
   "metadata": {},
   "outputs": [
    {
     "data": {
      "text/plain": [
       "'3.1417'"
      ]
     },
     "execution_count": 72,
     "metadata": {},
     "output_type": "execute_result"
    }
   ],
   "source": [
    "#소수점 자리수 표현(반올림됨)\n",
    "\"%0.4f\"%3.14166592"
   ]
  },
  {
   "cell_type": "code",
   "execution_count": 79,
   "metadata": {},
   "outputs": [
    {
     "data": {
      "text/plain": [
       "'  1426.123'"
      ]
     },
     "execution_count": 79,
     "metadata": {},
     "output_type": "execute_result"
    }
   ],
   "source": [
    "#앞자리와 뒷자리 동시 표현\n",
    "\"%10.3f\"%1426.123456 #전체 자리수가 10자리이며 소수점은 3자리를 의미"
   ]
  },
  {
   "cell_type": "markdown",
   "metadata": {},
   "source": [
    "# Function"
   ]
  },
  {
   "cell_type": "code",
   "execution_count": 83,
   "metadata": {},
   "outputs": [
    {
     "name": "stdout",
     "output_type": "stream",
     "text": [
      "<function print_address at 0x0000000004F1F0D0>\n"
     ]
    }
   ],
   "source": [
    "def print_address():\n",
    "    print(\"광주광역시\")\n",
    "    print(\"서구\")\n",
    "    print(\"스마트 학회\")\n",
    "    \n",
    "print(print_address) \n",
    "#결과 : <function print_address at 0x0000000004F1F378>\n",
    "#아무래도 함수만 호출해야하는데 함수를 프린트의 인수로 주니, 함수의 주소를 나타내주는 것 같다.\n"
   ]
  },
  {
   "cell_type": "code",
   "execution_count": 85,
   "metadata": {},
   "outputs": [
    {
     "name": "stdout",
     "output_type": "stream",
     "text": [
      "서울특별시 종로구 1번지\n",
      "파이썬 빌딩 7층\n",
      "홍길동\n"
     ]
    }
   ],
   "source": [
    "#인수를 사용하기\n",
    "\n",
    "def print_address(name):\n",
    "    print(\"서울특별시 종로구 1번지\")\n",
    "    print(\"파이썬 빌딩 7층\")\n",
    "    print(name)\n",
    "    \n",
    "print_address(\"홍길동\")"
   ]
  },
  {
   "cell_type": "code",
   "execution_count": 91,
   "metadata": {},
   "outputs": [
    {
     "name": "stdout",
     "output_type": "stream",
     "text": [
      "78.5\n"
     ]
    }
   ],
   "source": [
    "#return 반환값 활용하기\n",
    "\n",
    "def calculate_area(radius):\n",
    "    area = 3.14*radius**2\n",
    "    return area\n",
    "\n",
    "c_area = calculate_area(5.0)\n",
    "print(c_area)"
   ]
  },
  {
   "cell_type": "code",
   "execution_count": 94,
   "metadata": {},
   "outputs": [
    {
     "name": "stdout",
     "output_type": "stream",
     "text": [
      "5050\n"
     ]
    }
   ],
   "source": [
    "#여러개의 인수를 입력받아 기능 수행 후 리턴하여 출력하기\n",
    "\n",
    "def get_sum(start,end):\n",
    "    sum = 0\n",
    "    for i in range(start, end+1):\n",
    "        sum +=i\n",
    "    return sum\n",
    "\n",
    "print(get_sum(1,100))"
   ]
  },
  {
   "cell_type": "code",
   "execution_count": 102,
   "metadata": {},
   "outputs": [
    {
     "data": {
      "text/plain": [
       "14"
      ]
     },
     "execution_count": 102,
     "metadata": {},
     "output_type": "execute_result"
    }
   ],
   "source": [
    "def example(abc):\n",
    "    return abc+4\n",
    "\n",
    "example(50)"
   ]
  },
  {
   "cell_type": "code",
   "execution_count": 100,
   "metadata": {},
   "outputs": [
    {
     "name": "stdout",
     "output_type": "stream",
     "text": [
      "원의 반지름 : 50\n"
     ]
    },
    {
     "ename": "NameError",
     "evalue": "name 'result' is not defined",
     "output_type": "error",
     "traceback": [
      "\u001b[1;31m---------------------------------------------------------------------------\u001b[0m",
      "\u001b[1;31mNameError\u001b[0m                                 Traceback (most recent call last)",
      "\u001b[1;32m<ipython-input-100-3ad589f42c6a>\u001b[0m in \u001b[0;36m<module>\u001b[1;34m()\u001b[0m\n\u001b[0;32m      9\u001b[0m \u001b[0mr\u001b[0m \u001b[1;33m=\u001b[0m \u001b[0mfloat\u001b[0m\u001b[1;33m(\u001b[0m\u001b[0minput\u001b[0m\u001b[1;33m(\u001b[0m\u001b[1;34m\"원의 반지름 : \"\u001b[0m\u001b[1;33m)\u001b[0m\u001b[1;33m)\u001b[0m\u001b[1;33m\u001b[0m\u001b[0m\n\u001b[0;32m     10\u001b[0m \u001b[0marea\u001b[0m \u001b[1;33m=\u001b[0m \u001b[0mcalculate_area\u001b[0m\u001b[1;33m(\u001b[0m\u001b[0mr\u001b[0m\u001b[1;33m)\u001b[0m\u001b[1;33m\u001b[0m\u001b[0m\n\u001b[1;32m---> 11\u001b[1;33m \u001b[0mprint\u001b[0m\u001b[1;33m(\u001b[0m\u001b[0mresult\u001b[0m\u001b[1;33m)\u001b[0m\u001b[1;33m\u001b[0m\u001b[0m\n\u001b[0m\u001b[0;32m     12\u001b[0m \u001b[1;33m\u001b[0m\u001b[0m\n\u001b[0;32m     13\u001b[0m \u001b[1;31m#의도적으로 오류를 출력한다.\u001b[0m\u001b[1;33m\u001b[0m\u001b[1;33m\u001b[0m\u001b[0m\n",
      "\u001b[1;31mNameError\u001b[0m: name 'result' is not defined"
     ]
    }
   ],
   "source": [
    "#지역변수와 전역변수\n",
    "#LOCAL VARIABLE \n",
    "#GLOBAL VARIABLE\n",
    "\n",
    "def calculate_area(radius):\n",
    "    result = 3.14 * radius **2\n",
    "    return result\n",
    "\n",
    "r = float(input(\"원의 반지름 : \"))\n",
    "area = calculate_area(r)\n",
    "print(result) \n",
    "\n",
    "#의도적으로 오류를 출력한다. \n",
    "#result 는 함수 내에서 사용된 지역변수이기 때문에, 지역변수로서 함수 바깥에서는 쓸 수 없다.\n",
    "#전역변수(Global Variable)는 바깥에서 선언하고 함수 내부에서도 그대로 사용할 수 있다. \n",
    "#아래 라인에 고쳐진 코드를 보자. result 를 글로벌 함수로 선언해보자. "
   ]
  },
  {
   "cell_type": "code",
   "execution_count": 103,
   "metadata": {},
   "outputs": [
    {
     "name": "stdout",
     "output_type": "stream",
     "text": [
      "원의 반지름 : 50\n",
      "7850.0\n"
     ]
    }
   ],
   "source": [
    "def calculate_area(radius):\n",
    "    global result #전역변수로서 선언했으며\n",
    "    result = 3.14 * radius **2\n",
    "    return result\n",
    "\n",
    "r = float(input(\"원의 반지름 : \"))\n",
    "area = calculate_area(r)\n",
    "print(result)"
   ]
  },
  {
   "cell_type": "code",
   "execution_count": 105,
   "metadata": {},
   "outputs": [
    {
     "name": "stdout",
     "output_type": "stream",
     "text": [
      "안녕 영희,별 일 없죠?\n"
     ]
    }
   ],
   "source": [
    "#Default Parameter\n",
    "#파이선은 매개변수가 기본값을 가질 수 있다. (자바와는 차이가 되는 부분)\n",
    "\n",
    "def greet(name, msg = \"별 일 없죠?\"):\n",
    "    print(\"안녕\", name+','+msg)\n",
    "    \n",
    "greet(\"영희\")"
   ]
  },
  {
   "cell_type": "code",
   "execution_count": 107,
   "metadata": {},
   "outputs": [
    {
     "data": {
      "text/plain": [
       "6"
      ]
     },
     "execution_count": 107,
     "metadata": {},
     "output_type": "execute_result"
    }
   ],
   "source": [
    "def calc(x,y,z):\n",
    "    return x+y+z\n",
    "\n",
    "calc(1,2,3)"
   ]
  },
  {
   "cell_type": "code",
   "execution_count": 109,
   "metadata": {},
   "outputs": [
    {
     "ename": "SyntaxError",
     "evalue": "positional argument follows keyword argument (<ipython-input-109-f7a8fb1f789f>, line 4)",
     "output_type": "error",
     "traceback": [
      "\u001b[1;36m  File \u001b[1;32m\"<ipython-input-109-f7a8fb1f789f>\"\u001b[1;36m, line \u001b[1;32m4\u001b[0m\n\u001b[1;33m    calc(x=1,2,3) # 첫 번째 인수의 위치값을 지정하는 것은 오류를 발생시킨다.\u001b[0m\n\u001b[1;37m            ^\u001b[0m\n\u001b[1;31mSyntaxError\u001b[0m\u001b[1;31m:\u001b[0m positional argument follows keyword argument\n"
     ]
    }
   ],
   "source": [
    "def calc(x,y,z):\n",
    "    return x+y+z\n",
    "\n",
    "calc(x=1,2,3) # 첫 번째 인수의 위치값을 지정하는 것은 오류를 발생시킨다."
   ]
  },
  {
   "cell_type": "code",
   "execution_count": 113,
   "metadata": {},
   "outputs": [
    {
     "data": {
      "text/plain": [
       "6"
      ]
     },
     "execution_count": 113,
     "metadata": {},
     "output_type": "execute_result"
    }
   ],
   "source": [
    "def calc(x,y,z):\n",
    "    return x+y+z\n",
    "\n",
    "calc(1,z=2,y=3) #그러나 두 번째 인수부터는 위치값을 지정하는 것이 가능하다."
   ]
  },
  {
   "cell_type": "code",
   "execution_count": 118,
   "metadata": {},
   "outputs": [
    {
     "data": {
      "text/plain": [
       "6"
      ]
     },
     "execution_count": 118,
     "metadata": {},
     "output_type": "execute_result"
    }
   ],
   "source": [
    "def calc(x,y,z):\n",
    "    return x+y+z\n",
    "\n",
    "calc(1,2,z=3) #그러나 두 번째 인수부터는 위치값을 지정하는 것이 가능하다."
   ]
  },
  {
   "cell_type": "markdown",
   "metadata": {},
   "source": [
    "# LIST"
   ]
  },
  {
   "cell_type": "code",
   "execution_count": 121,
   "metadata": {},
   "outputs": [
    {
     "name": "stdout",
     "output_type": "stream",
     "text": [
      "c\n"
     ]
    }
   ],
   "source": [
    "#단일 문자 LIST\n",
    "\n",
    "letters = ['a','b','c','d','e','f']\n",
    "print (letters[2])"
   ]
  },
  {
   "cell_type": "code",
   "execution_count": 124,
   "metadata": {},
   "outputs": [
    {
     "name": "stdout",
     "output_type": "stream",
     "text": [
      "['a', 'b', 'c']\n",
      "['a', 'b', 'c']\n"
     ]
    }
   ],
   "source": [
    "#혼합 LIST\n",
    "a=[1,2,3,['a','b','c']]\n",
    "print(a[-1])\n",
    "print(a[3]) #위 두 지정은 똑같다."
   ]
  },
  {
   "cell_type": "code",
   "execution_count": 128,
   "metadata": {},
   "outputs": [
    {
     "name": "stdout",
     "output_type": "stream",
     "text": [
      "a\n"
     ]
    }
   ],
   "source": [
    "#혼합 LIST 의 출력(2차원 배열의 구현)\n",
    "a=[1,2,3,['a','b','c']]\n",
    "print(a[3][0]) #2차원 배열의 구현"
   ]
  },
  {
   "cell_type": "markdown",
   "metadata": {},
   "source": [
    "Slicing"
   ]
  },
  {
   "cell_type": "code",
   "execution_count": 136,
   "metadata": {},
   "outputs": [
    {
     "name": "stdout",
     "output_type": "stream",
     "text": [
      "['C', 'D', 'E']\n",
      "['A', 'B', 'C', 'D', 'E', 'F']\n",
      "['D', 'E', 'F']\n",
      "['A', 'B', 'C']\n"
     ]
    }
   ],
   "source": [
    "#배열의 범위 출력(Slicing)\n",
    "letters = ['A','B','C','D','E','F']\n",
    "print(letters[2:5])\n",
    "print(letters[:])\n",
    "print(letters[3:])\n",
    "print(letters[:3])"
   ]
  },
  {
   "cell_type": "code",
   "execution_count": 139,
   "metadata": {},
   "outputs": [
    {
     "name": "stdout",
     "output_type": "stream",
     "text": [
      "['아이언맨', '토르', '헐크', '스칼렛 위치']\n",
      "['아이언맨', '닥터 스트레인지', '헐크', '스칼렛 위치']\n"
     ]
    }
   ],
   "source": [
    "#리스트의 항목 변경\n",
    "heroes = [\"아이언맨\",\"토르\",\"헐크\",\"스칼렛 위치\"]\n",
    "print(heroes)\n",
    "heroes[1] =\"닥터 스트레인지\"\n",
    "print(heroes)"
   ]
  },
  {
   "cell_type": "code",
   "execution_count": 142,
   "metadata": {},
   "outputs": [
    {
     "name": "stdout",
     "output_type": "stream",
     "text": [
      "['아이언맨', '배트맨', '토르', '헐크', '스칼렛 위치']\n"
     ]
    }
   ],
   "source": [
    "#함수를 이용하여 추가하기\n",
    "#functionName.insert(1,Target)\n",
    "\n",
    "heroes = [\"아이언맨\",\"토르\",\"헐크\",\"스칼렛 위치\"]\n",
    "heroes.insert(1,\"배트맨\")\n",
    "print(heroes)"
   ]
  },
  {
   "cell_type": "code",
   "execution_count": 145,
   "metadata": {},
   "outputs": [
    {
     "name": "stdout",
     "output_type": "stream",
     "text": [
      "['아이언맨', '토르', '헐크']\n"
     ]
    }
   ],
   "source": [
    "#함수를 이용하여 입력한 값과 정확히 일치하는 값 삭제하기\n",
    "#functionName.remove(\"스칼렛 위치\")\n",
    "\n",
    "heroes = [\"아이언맨\",\"토르\",\"헐크\",\"스칼렛 위치\"]\n",
    "heroes.remove(\"스칼렛 위치\")\n",
    "print(heroes)"
   ]
  },
  {
   "cell_type": "code",
   "execution_count": 146,
   "metadata": {
    "collapsed": true
   },
   "outputs": [],
   "source": [
    "#슈퍼맨이라는 항목을 리스트에서 삭제하기(if문 사용) - 수업시간에 다루지 않음"
   ]
  },
  {
   "cell_type": "code",
   "execution_count": 149,
   "metadata": {},
   "outputs": [
    {
     "data": {
      "text/plain": [
       "['아이언맨', '토르', '스칼렛 위치']"
      ]
     },
     "execution_count": 149,
     "metadata": {},
     "output_type": "execute_result"
    }
   ],
   "source": [
    "#인덱스를 사용하여 항목 삭제하기\n",
    "heroes = [\"아이언맨\",\"토르\",\"헐크\",\"스칼렛 위치\"]\n",
    "del heroes[2]\n",
    "heroes"
   ]
  },
  {
   "cell_type": "code",
   "execution_count": 156,
   "metadata": {
    "scrolled": true
   },
   "outputs": [
    {
     "name": "stdout",
     "output_type": "stream",
     "text": [
      "['아이언맨', '토르', '헐크', '스칼렛 위치']\n",
      "스칼렛 위치\n",
      "['아이언맨', '토르', '헐크']\n",
      "헐크\n",
      "['아이언맨', '토르']\n"
     ]
    }
   ],
   "source": [
    "#pop() 사용하여 삭제하기(끝부분을 삭제한다. Stack 의 원리)\n",
    "\n",
    "heroes = [\"아이언맨\",\"토르\",\"헐크\",\"스칼렛 위치\"]\n",
    "print(heroes)\n",
    "print(heroes.pop()) #삭제가 됨과 동시에 해당 함수에 삭제된 값이 담기는 것 같다. \n",
    "print(heroes)\n",
    "print(heroes.pop()) #삭제가 됨과 동시에 해당 함수에 삭제된 값이 담기는 것 같다. \n",
    "print(heroes)"
   ]
  },
  {
   "cell_type": "code",
   "execution_count": 162,
   "metadata": {},
   "outputs": [
    {
     "data": {
      "text/plain": [
       "0"
      ]
     },
     "execution_count": 162,
     "metadata": {},
     "output_type": "execute_result"
    }
   ],
   "source": [
    "#리스트 탐색하기, listName.index(Number) -> 해당 값과 동일한 값을 가진 항목의 인덱스 번호를 반환한다.\n",
    "letters = ['A','B','C','D','E','F']\n",
    "letters.index(\"A\")"
   ]
  },
  {
   "cell_type": "code",
   "execution_count": 163,
   "metadata": {},
   "outputs": [
    {
     "name": "stdout",
     "output_type": "stream",
     "text": [
      "아이언맨\n",
      "토르\n",
      "헐크\n",
      "스칼렛 위치\n"
     ]
    }
   ],
   "source": [
    "#LIST 방문하기 \n",
    "heroes = [\"아이언맨\",\"토르\",\"헐크\",\"스칼렛 위치\"]\n",
    "for hero in heroes:\n",
    "    print(hero)"
   ]
  },
  {
   "cell_type": "code",
   "execution_count": 170,
   "metadata": {
    "scrolled": true
   },
   "outputs": [
    {
     "name": "stdout",
     "output_type": "stream",
     "text": [
      "['스칼렛 위치', '아이언맨', '토르', '헐크']\n",
      "['2', '3', '5', 'A', 'B', 'B', 'E', 'a', 'a', 'c', 'f', 'g']\n",
      "4\n",
      "4\n"
     ]
    }
   ],
   "source": [
    "#LIST 정렬하기\n",
    "heroes = [\"아이언맨\",\"토르\",\"헐크\",\"스칼렛 위치\"]\n",
    "heroes.sort()\n",
    "print(heroes)\n",
    "\n",
    "letters = ['3','2','5','a','B','c','A','E','f','a','B','g']\n",
    "letters.sort()\n",
    "print(letters)\n",
    "\n",
    "#갑작스런 궁금증, 탐색시 동일한 값이 여러 항목이라면 어떻게 반환할까?\n",
    "letters = ['3','2','5','a','B','c','A','E','f','a','B','g']\n",
    "print(letters.index(\"B\"))\n",
    "print(letters.index(\"B\")) # 첫번째 매칭 되는 항목의 인덱스만 반환하는 것 같다."
   ]
  },
  {
   "cell_type": "code",
   "execution_count": 183,
   "metadata": {},
   "outputs": [
    {
     "name": "stdout",
     "output_type": "stream",
     "text": [
      "[1, 2, 3, 4, 5, 6]\n"
     ]
    },
    {
     "data": {
      "text/plain": [
       "[1, 2, 3, 4, 5, 6, 5, 6]"
      ]
     },
     "execution_count": 183,
     "metadata": {},
     "output_type": "execute_result"
    }
   ],
   "source": [
    "#extend 함수 사용하여 항목 추가하기\n",
    "\n",
    "a = [1,2,3,4]\n",
    "a.extend([5,6])\n",
    "print(a)\n",
    "#튜플처럼 LIST 도 더하기 연산이 가능할까?\n",
    "a+[5,6] #된다."
   ]
  },
  {
   "cell_type": "code",
   "execution_count": 175,
   "metadata": {},
   "outputs": [
    {
     "data": {
      "text/plain": [
       "3"
      ]
     },
     "execution_count": 175,
     "metadata": {},
     "output_type": "execute_result"
    }
   ],
   "source": [
    "#항목의 개수 count 하기\n",
    "\n",
    "a=[1,2,3,4,1,2,3,1,2,3]\n",
    "a.count(1)"
   ]
  },
  {
   "cell_type": "markdown",
   "metadata": {},
   "source": [
    "# Tuple"
   ]
  },
  {
   "cell_type": "code",
   "execution_count": 209,
   "metadata": {},
   "outputs": [
    {
     "name": "stdout",
     "output_type": "stream",
     "text": [
      "3\n",
      "('b', ('ab', 'cd'))\n"
     ]
    },
    {
     "data": {
      "text/plain": [
       "(1, 2, 3, 1, 2, 3, 1, 2, 3, 1, 2, 3, 1, 2, 3)"
      ]
     },
     "execution_count": 209,
     "metadata": {},
     "output_type": "execute_result"
    }
   ],
   "source": [
    "#튜플은 소괄호()로 정의되며, 호출시엔 대괄호[]를 사용한다.\n",
    "t1=()\n",
    "t2=(1,)\n",
    "t3=(1,2,3)\n",
    "t4=1,2,3\n",
    "t5=('a','b',('ab','cd'))\n",
    "\n",
    "#튜플의 호출(LIST 와 거의 동일)\n",
    "print(t3[2])\n",
    "print(t5[1:])\n",
    "\n",
    "#튜플의 연결\n",
    "t3+t4\n",
    "\n",
    "#튜플의 반복 연결\n",
    "(1,2,3)*5"
   ]
  },
  {
   "cell_type": "markdown",
   "metadata": {},
   "source": [
    "# Dictionary"
   ]
  },
  {
   "cell_type": "code",
   "execution_count": 188,
   "metadata": {},
   "outputs": [
    {
     "ename": "SyntaxError",
     "evalue": "invalid syntax (<ipython-input-188-af1f8b7dc93f>, line 7)",
     "output_type": "error",
     "traceback": [
      "\u001b[1;36m  File \u001b[1;32m\"<ipython-input-188-af1f8b7dc93f>\"\u001b[1;36m, line \u001b[1;32m7\u001b[0m\n\u001b[1;33m    홍길동\"\"\u001b[0m\n\u001b[1;37m        ^\u001b[0m\n\u001b[1;31mSyntaxError\u001b[0m\u001b[1;31m:\u001b[0m invalid syntax\n"
     ]
    }
   ],
   "source": [
    "#LIST 의 항목을 구분하는 것이 순차적으로 증가하는 index 였던 반면 Dictionary 는 구체적인 키값으로 항목의 값을 찾도록 한다.\n",
    "\n",
    "phone_book = {}\n",
    "phone_book[\"홍길동\"] = \"010-1234-5678\"\n",
    "\n",
    "print(phone_book) \n",
    "\n",
    "#결과 해석 \n",
    "#\"홍길동\"은 키에 해당이 되고, \"010-1234-5678\"은 값에 해당된다. 이는 콜론(:)으로 연결된다.\n",
    "\n"
   ]
  },
  {
   "cell_type": "code",
   "execution_count": 195,
   "metadata": {
    "scrolled": true
   },
   "outputs": [
    {
     "name": "stdout",
     "output_type": "stream",
     "text": [
      "{'name': 'cwP', 'phone': '01023123123', 'birthday': '19890505'}\n",
      "cwP\n"
     ]
    },
    {
     "ename": "KeyError",
     "evalue": "1",
     "output_type": "error",
     "traceback": [
      "\u001b[1;31m---------------------------------------------------------------------------\u001b[0m",
      "\u001b[1;31mKeyError\u001b[0m                                  Traceback (most recent call last)",
      "\u001b[1;32m<ipython-input-195-b86f2f99340c>\u001b[0m in \u001b[0;36m<module>\u001b[1;34m()\u001b[0m\n\u001b[0;32m      3\u001b[0m \u001b[0mprint\u001b[0m\u001b[1;33m(\u001b[0m\u001b[0mdic\u001b[0m\u001b[1;33m)\u001b[0m\u001b[1;33m\u001b[0m\u001b[0m\n\u001b[0;32m      4\u001b[0m \u001b[0mprint\u001b[0m\u001b[1;33m(\u001b[0m\u001b[0mdic\u001b[0m\u001b[1;33m[\u001b[0m\u001b[1;34m\"name\"\u001b[0m\u001b[1;33m]\u001b[0m\u001b[1;33m)\u001b[0m \u001b[1;31m# LIST, Tuple 과 마찬가지로 호출은 역시 대괄호([])를 사용한다.\u001b[0m\u001b[1;33m\u001b[0m\u001b[0m\n\u001b[1;32m----> 5\u001b[1;33m \u001b[0mprint\u001b[0m\u001b[1;33m(\u001b[0m\u001b[0mdic\u001b[0m\u001b[1;33m[\u001b[0m\u001b[1;36m1\u001b[0m\u001b[1;33m]\u001b[0m\u001b[1;33m)\u001b[0m\u001b[1;33m\u001b[0m\u001b[0m\n\u001b[0m",
      "\u001b[1;31mKeyError\u001b[0m: 1"
     ]
    }
   ],
   "source": [
    "#Dictionary 의 정의와 호출\n",
    "dic = {'name':'cwP','phone':'01023123123','birthday':'19890505'}\n",
    "print(dic)\n",
    "print(dic[\"name\"]) # LIST, Tuple 과 마찬가지로 호출은 역시 대괄호([])를 사용한다. \n",
    "#print(dic[1]), 왼쪽의 코드와 같이 Dictionary 는 인덱스 호출이 불가능한듯 하다. "
   ]
  },
  {
   "cell_type": "code",
   "execution_count": 203,
   "metadata": {},
   "outputs": [
    {
     "name": "stdout",
     "output_type": "stream",
     "text": [
      "dict_keys(['name', 'phone', 'birthday'])\n",
      "dict_values(['cwP', '01023123123', '19890505'])\n"
     ]
    }
   ],
   "source": [
    "#Dictionary 의 key 와 value 를 따로 출력해보기\n",
    "\n",
    "dic = {'name':'cwP','phone':'01023123123','birthday':'19890505'}\n",
    "print(dic.keys())\n",
    "print(dic.values())"
   ]
  },
  {
   "cell_type": "code",
   "execution_count": 205,
   "metadata": {
    "collapsed": true
   },
   "outputs": [],
   "source": [
    "#Dictionary 는 for 안에서도 쉽게 활용할 수 있다.(구현해보기)"
   ]
  }
 ],
 "metadata": {
  "kernelspec": {
   "display_name": "Python 3",
   "language": "python",
   "name": "python3"
  },
  "language_info": {
   "codemirror_mode": {
    "name": "ipython",
    "version": 3
   },
   "file_extension": ".py",
   "mimetype": "text/x-python",
   "name": "python",
   "nbconvert_exporter": "python",
   "pygments_lexer": "ipython3",
   "version": "3.6.1"
  }
 },
 "nbformat": 4,
 "nbformat_minor": 2
}
