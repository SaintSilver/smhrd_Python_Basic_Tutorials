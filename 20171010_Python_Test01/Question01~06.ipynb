{
 "cells": [
  {
   "cell_type": "markdown",
   "metadata": {},
   "source": [
    "# Question01"
   ]
  },
  {
   "cell_type": "code",
   "execution_count": null,
   "metadata": {},
   "outputs": [],
   "source": [
    "m = int(input(\"원하는 단을 입력하시오 : \"))"
   ]
  },
  {
   "cell_type": "code",
   "execution_count": null,
   "metadata": {},
   "outputs": [],
   "source": [
    "while m<1 or m>9:\n",
    "    m = int(input(\"구구단은 1단부터 9단까지 출력이 가능합니다.\"))\n",
    "for n in range(1,10):\n",
    "    print(m,'x',n,'=',m*n)"
   ]
  },
  {
   "cell_type": "markdown",
   "metadata": {},
   "source": [
    "# Question02"
   ]
  },
  {
   "cell_type": "code",
   "execution_count": null,
   "metadata": {},
   "outputs": [],
   "source": [
    "x=int(input('숫자1입력 : '))\n",
    "y=int(input('숫자2입력 : '))\n",
    "def plus(x,y):\n",
    "    return x+y\n",
    "def minus(x,y):\n",
    "    return x-y\n",
    "def multiply(x,y):\n",
    "    return x*y\n",
    "def divide(x,y):\n",
    "    return x/y\n",
    "\n",
    "print(plus(x,y))\n",
    "print(minus(x,y))\n",
    "print(multiply(x,y))\n",
    "print(divide(x,y))"
   ]
  },
  {
   "cell_type": "markdown",
   "metadata": {},
   "source": [
    "# Question03"
   ]
  },
  {
   "cell_type": "code",
   "execution_count": null,
   "metadata": {},
   "outputs": [],
   "source": [
    "name = input(\"이름을 입력하세요: \")\n",
    "print(\"Happy Birthday to you!\")\n",
    "print(\"Happy Birthday to you!\")\n",
    "print(\"Happy Birthday, dear \",name)\n",
    "print(\"Happy Birthday to you!\")"
   ]
  },
  {
   "cell_type": "markdown",
   "metadata": {},
   "source": [
    "# Question04"
   ]
  },
  {
   "cell_type": "code",
   "execution_count": null,
   "metadata": {},
   "outputs": [],
   "source": [
    "import numpy as np\n",
    "arr = np.arange(10)\n",
    "li = [0,1,2,3,4,5]\n",
    "print(li[2])\n",
    "print(li)\n",
    "print(li[:2])"
   ]
  },
  {
   "cell_type": "markdown",
   "metadata": {},
   "source": [
    "# Question05"
   ]
  },
  {
   "cell_type": "code",
   "execution_count": null,
   "metadata": {},
   "outputs": [],
   "source": [
    "numbers = [int(x.rstrip()) for x in open(\"sample.txt\")]\n",
    "sum = 0\n",
    "count = 0\n",
    "for i in numbers:\n",
    "    sum += i\n",
    "    count +=1\n",
    "\n",
    "avg = sum / count\n",
    "open(\"result.txt\",'w').write(str(avg))"
   ]
  },
  {
   "cell_type": "markdown",
   "metadata": {},
   "source": [
    "# Question06"
   ]
  },
  {
   "cell_type": "code",
   "execution_count": null,
   "metadata": {},
   "outputs": [],
   "source": [
    "contacts = {}\n",
    "while True:\n",
    "    name = input('이름 입력 :')\n",
    "    if name==\"\":\n",
    "        print(\"검색모드\")\n",
    "        break\n",
    "    number = input('전화번호 입력 : ')\n",
    "    contacts[name]=number\n",
    "\n",
    "search_name = input('찾으실 이름을 입력하세요:')\n",
    "if search_name in contacts:\n",
    "    print(search_name,\"의 전화번호는 \",contacts[search_name],\" 입니다.\")\n",
    "else:\n",
    "    print(\"찾으시는 이름이 없습니다.\")"
   ]
  }
 ],
 "metadata": {
  "kernelspec": {
   "display_name": "Python 3",
   "language": "python",
   "name": "python3"
  },
  "language_info": {
   "codemirror_mode": {
    "name": "ipython",
    "version": 3
   },
   "file_extension": ".py",
   "mimetype": "text/x-python",
   "name": "python",
   "nbconvert_exporter": "python",
   "pygments_lexer": "ipython3",
   "version": "3.6.1"
  }
 },
 "nbformat": 4,
 "nbformat_minor": 2
}
