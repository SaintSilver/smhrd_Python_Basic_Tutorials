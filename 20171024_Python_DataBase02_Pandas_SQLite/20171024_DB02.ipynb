{
 "cells": [
  {
   "cell_type": "code",
   "execution_count": 3,
   "metadata": {},
   "outputs": [
    {
     "ename": "OperationalError",
     "evalue": "table student1 already exists",
     "output_type": "error",
     "traceback": [
      "\u001b[1;31m---------------------------------------------------------------------------\u001b[0m",
      "\u001b[1;31mOperationalError\u001b[0m                          Traceback (most recent call last)",
      "\u001b[1;32m<ipython-input-3-57d6310cf517>\u001b[0m in \u001b[0;36m<module>\u001b[1;34m()\u001b[0m\n\u001b[0;32m      3\u001b[0m \u001b[0mdb\u001b[0m \u001b[1;33m=\u001b[0m \u001b[0msqlite3\u001b[0m\u001b[1;33m.\u001b[0m\u001b[0mconnect\u001b[0m\u001b[1;33m(\u001b[0m\u001b[1;34m'sql_test1.db'\u001b[0m\u001b[1;33m)\u001b[0m\u001b[1;33m\u001b[0m\u001b[0m\n\u001b[0;32m      4\u001b[0m \u001b[0mcur\u001b[0m \u001b[1;33m=\u001b[0m \u001b[0mdb\u001b[0m\u001b[1;33m.\u001b[0m\u001b[0mcursor\u001b[0m\u001b[1;33m(\u001b[0m\u001b[1;33m)\u001b[0m\u001b[1;33m\u001b[0m\u001b[0m\n\u001b[1;32m----> 5\u001b[1;33m \u001b[0mcur\u001b[0m\u001b[1;33m.\u001b[0m\u001b[0mexecute\u001b[0m\u001b[1;33m(\u001b[0m\u001b[1;34m\"create table student1(name text, age integer)\"\u001b[0m\u001b[1;33m)\u001b[0m\u001b[1;33m\u001b[0m\u001b[0m\n\u001b[0m",
      "\u001b[1;31mOperationalError\u001b[0m: table student1 already exists"
     ]
    }
   ],
   "source": [
    "import sqlite3\n",
    "\n",
    "db = sqlite3.connect('sql_test1.db')\n",
    "cur = db.cursor()\n",
    "cur.execute(\"create table student1(name text, age integer)\")"
   ]
  },
  {
   "cell_type": "code",
   "execution_count": 4,
   "metadata": {
    "collapsed": true
   },
   "outputs": [],
   "source": [
    "def bulk_insertTable():\n",
    "    try:\n",
    "        db = sqlite3.connect('sql_test1.db')\n",
    "        cur = db.cursor()\n",
    "        sql = \"insert into student1(name, age) values(?,?)\"\n",
    "        data = [('김철수',50),('홍길동',33),('최지우',38)]\n",
    "        cur.executemany(sql,data)\n",
    "        db.commit()\n",
    "        db.close()\n",
    "        print(\"insert bulk success\")\n",
    "    except Exceptino as err:\n",
    "        print('err',err)"
   ]
  },
  {
   "cell_type": "code",
   "execution_count": 5,
   "metadata": {},
   "outputs": [
    {
     "name": "stdout",
     "output_type": "stream",
     "text": [
      "insert bulk success\n"
     ]
    }
   ],
   "source": [
    "bulk_insertTable()"
   ]
  },
  {
   "cell_type": "code",
   "execution_count": 8,
   "metadata": {},
   "outputs": [
    {
     "name": "stdout",
     "output_type": "stream",
     "text": [
      "[('김철수', 50), ('홍길동', 33), ('최지우', 38)]\n"
     ]
    }
   ],
   "source": [
    "db = sqlite3.connect('sql_test1.db')\n",
    "cur = db.cursor()\n",
    "sql = \"select * from student1\"\n",
    "cur.execute(sql)\n",
    "print(cur.fetchall())"
   ]
  },
  {
   "cell_type": "code",
   "execution_count": 10,
   "metadata": {},
   "outputs": [
    {
     "data": {
      "text/plain": [
       "<sqlite3.Cursor at 0x5008f80>"
      ]
     },
     "execution_count": 10,
     "metadata": {},
     "output_type": "execute_result"
    }
   ],
   "source": [
    "cur.execute(sql)"
   ]
  },
  {
   "cell_type": "code",
   "execution_count": 12,
   "metadata": {},
   "outputs": [
    {
     "name": "stdout",
     "output_type": "stream",
     "text": [
      "이름:홍길동 나이:33\n",
      "이름:최지우 나이:38\n"
     ]
    }
   ],
   "source": [
    "for dt in cur : \n",
    "    print(\"이름:%s 나이:%d\"%(dt[0],dt[1]))\n",
    "db.close()"
   ]
  },
  {
   "cell_type": "code",
   "execution_count": 21,
   "metadata": {
    "collapsed": true
   },
   "outputs": [],
   "source": [
    "def where_and_table():\n",
    "    try:\n",
    "        db = sqlite3.connect('sql_test1.db')\n",
    "        cur = db.cursor()\n",
    "        sql = \"select * from student1 where name = ? or age = ?\"\n",
    "        data = (\"이순신\", 33)\n",
    "        cur.execute(sql,data)\n",
    "        \n",
    "        for dt in cur : \n",
    "            print(\"이름 : %s 나이 : %d\"%(dt[0],dt[1]))\n",
    "        db.close()\n",
    "        \n",
    "        print(\"wehre and success\")\n",
    "    except Exception as err:\n",
    "        print ('error', err)\n",
    "        "
   ]
  },
  {
   "cell_type": "code",
   "execution_count": 22,
   "metadata": {},
   "outputs": [
    {
     "name": "stdout",
     "output_type": "stream",
     "text": [
      "이름 : 홍길동 나이 : 33\n",
      "wehre and success\n"
     ]
    }
   ],
   "source": [
    "where_and_table()"
   ]
  },
  {
   "cell_type": "code",
   "execution_count": 25,
   "metadata": {},
   "outputs": [],
   "source": [
    "def where_between_and_table():\n",
    "    try : \n",
    "        db = sqlite3.connect('sql_test1.db')\n",
    "        cur = db.cursor()\n",
    "        sql = \"select * from student1 where age between 40 and 50\"\n",
    "        cur.execute(sql)\n",
    "        \n",
    "        for dt in cur :\n",
    "            print(\"이름 : %s 나이 : %d\"%(dt[0],dt[1]))\n",
    "        \n",
    "        db.close()\n",
    "        print(\"between and success\")\n",
    "    except Exception as err:\n",
    "        print('error', err)"
   ]
  },
  {
   "cell_type": "code",
   "execution_count": 26,
   "metadata": {},
   "outputs": [
    {
     "name": "stdout",
     "output_type": "stream",
     "text": [
      "이름 : 김철수 나이 : 50\n",
      "between and success\n"
     ]
    }
   ],
   "source": [
    "where_between_and_table()"
   ]
  },
  {
   "cell_type": "code",
   "execution_count": 35,
   "metadata": {},
   "outputs": [],
   "source": [
    "def like1_table():\n",
    "    try : \n",
    "        db = sqlite3.connect('sql_test1.db')\n",
    "        cur = db.cursor()\n",
    "        sql = \"select * from student1 where name like '홍__'\"\n",
    "        cur.execute(sql)\n",
    "        \n",
    "        for dt in cur : \n",
    "            print(\"이름 : %s 나이 : %d\"%(dt[0], dt[1]))\n",
    "        db.close()\n",
    "        print(\"like success\")\n",
    "    \n",
    "    except Exception as err:\n",
    "        print('error', err)"
   ]
  },
  {
   "cell_type": "code",
   "execution_count": 36,
   "metadata": {},
   "outputs": [
    {
     "name": "stdout",
     "output_type": "stream",
     "text": [
      "이름 : 홍길동 나이 : 33\n",
      "like success\n"
     ]
    }
   ],
   "source": [
    "like1_table()"
   ]
  },
  {
   "cell_type": "code",
   "execution_count": 38,
   "metadata": {},
   "outputs": [],
   "source": [
    "def like2_table():\n",
    "    try : \n",
    "        db = sqlite3.connect('sql_test1.db')\n",
    "        cur = db.cursor()\n",
    "        sql = \"select * from student1 where name like '김%'\"\n",
    "        cur.execute(sql)\n",
    "        \n",
    "        for dt in cur : \n",
    "            print(\"이름 : %s 나이 : %d\"%(dt[0], dt[1]))\n",
    "        db.close()\n",
    "        print(\"like success\")\n",
    "    \n",
    "    except Exception as err:\n",
    "        print('error', err)"
   ]
  },
  {
   "cell_type": "code",
   "execution_count": 39,
   "metadata": {},
   "outputs": [
    {
     "name": "stdout",
     "output_type": "stream",
     "text": [
      "이름 : 김철수 나이 : 50\n",
      "like success\n"
     ]
    }
   ],
   "source": [
    "like2_table()"
   ]
  },
  {
   "cell_type": "code",
   "execution_count": 108,
   "metadata": {},
   "outputs": [],
   "source": [
    "def limit_table():\n",
    "    try : \n",
    "        db = sqlite3.connect('sql_test1.db')\n",
    "        cur = db.cursor()\n",
    "        sql = \"select * from student1 limit ?\"\n",
    "        data =(4,)\n",
    "        #왜 (4,) 형식으로 해야하는가? \n",
    "        cur.execute(sql,data)\n",
    "        \n",
    "        for dt in cur : \n",
    "            print(\"이름 : %s 나이 : %d\"%(dt[0], dt[1]))\n",
    "        db.close()\n",
    "        print(\"limit success\")\n",
    "    \n",
    "    except Exception as err:\n",
    "        print('error', err)"
   ]
  },
  {
   "cell_type": "code",
   "execution_count": 109,
   "metadata": {},
   "outputs": [
    {
     "name": "stdout",
     "output_type": "stream",
     "text": [
      "이름 : 김철수 나이 : 50\n",
      "이름 : 홍길동 나이 : 33\n",
      "이름 : 최지우 나이 : 38\n",
      "이름 : 김삿갓 나이 : 50\n",
      "limit success\n"
     ]
    }
   ],
   "source": [
    "limit_table()"
   ]
  },
  {
   "cell_type": "code",
   "execution_count": 97,
   "metadata": {
    "collapsed": true
   },
   "outputs": [],
   "source": [
    "def order_by_table():\n",
    "    try : \n",
    "        db = sqlite3.connect('sql_test1.db')\n",
    "        cur = db.cursor()\n",
    "        sql = \"select * from student1 where name like '김%' order by age desc\"\n",
    "        cur.execute(sql)\n",
    "        \n",
    "        for dt in cur : \n",
    "            print(\"이름 : %s 나이 : %d\"%(dt[0], dt[1]))\n",
    "        db.close()\n",
    "        print(\"limit success\")\n",
    "    \n",
    "    except Exception as err:\n",
    "        print('error', err)"
   ]
  },
  {
   "cell_type": "code",
   "execution_count": 61,
   "metadata": {},
   "outputs": [
    {
     "name": "stdout",
     "output_type": "stream",
     "text": [
      "이름 : 김첨지 나이 : 120\n",
      "이름 : 김수로 나이 : 100\n",
      "이름 : 김철수 나이 : 50\n",
      "이름 : 김삿갓 나이 : 50\n",
      "limit success\n"
     ]
    }
   ],
   "source": [
    "order_by_table()"
   ]
  },
  {
   "cell_type": "code",
   "execution_count": 134,
   "metadata": {
    "collapsed": true
   },
   "outputs": [],
   "source": [
    "def group_by_table():\n",
    "    try : \n",
    "        db = sqlite3.connect('sql_test1.db')\n",
    "        cur = db.cursor()\n",
    "        sql = \"select age, count(*) from student1 group by age\"\n",
    "        cur.execute(sql)\n",
    "        \n",
    "        for dt in cur : \n",
    "            print(\"나이 : %s 인원수 : %d\"%(dt[0], dt[1]))\n",
    "        db.close()\n",
    "        print(\"limit success\")\n",
    "    \n",
    "    except Exception as err:\n",
    "        print('error', err)"
   ]
  },
  {
   "cell_type": "code",
   "execution_count": 135,
   "metadata": {},
   "outputs": [
    {
     "name": "stdout",
     "output_type": "stream",
     "text": [
      "나이 : 33 인원수 : 2\n",
      "나이 : 38 인원수 : 1\n",
      "나이 : 50 인원수 : 2\n",
      "나이 : 100 인원수 : 1\n",
      "나이 : 120 인원수 : 1\n",
      "limit success\n"
     ]
    }
   ],
   "source": [
    "group_by_table()"
   ]
  },
  {
   "cell_type": "code",
   "execution_count": 139,
   "metadata": {
    "collapsed": true
   },
   "outputs": [],
   "source": [
    "def between_group_by_table():\n",
    "    try : \n",
    "        db = sqlite3.connect('sql_test1.db')\n",
    "        cur = db.cursor()\n",
    "        sql = \"select age, count(*) from student1 where age between 40 and 100 group by age\"\n",
    "        cur.execute(sql)\n",
    "        \n",
    "        for dt in cur : \n",
    "            print(\"나이 : %s 인원수 : %d\"%(dt[0], dt[1]))\n",
    "        db.close()\n",
    "        print(\"limit success\")\n",
    "    \n",
    "    except Exception as err:\n",
    "        print('error', err)"
   ]
  },
  {
   "cell_type": "code",
   "execution_count": 140,
   "metadata": {},
   "outputs": [
    {
     "name": "stdout",
     "output_type": "stream",
     "text": [
      "나이 : 50 인원수 : 2\n",
      "나이 : 100 인원수 : 1\n",
      "limit success\n"
     ]
    }
   ],
   "source": [
    "between_group_by_table()"
   ]
  },
  {
   "cell_type": "code",
   "execution_count": 156,
   "metadata": {
    "collapsed": true
   },
   "outputs": [],
   "source": [
    "def between_group_by_having():\n",
    "    try : \n",
    "        db = sqlite3.connect('sql_test1.db')\n",
    "        cur = db.cursor()\n",
    "        sql = \"select age, count(*) from student1 where age between 30 and 100 group by age having count(*)>1\"\n",
    "        cur.execute(sql)\n",
    "        \n",
    "        for dt in cur : \n",
    "            print(\"나이 : %s 인원수 : %d\"%(dt[0], dt[1]))\n",
    "        db.close()\n",
    "        print(\"having success\")\n",
    "    \n",
    "    except Exception as err:\n",
    "        print('error', err)"
   ]
  },
  {
   "cell_type": "code",
   "execution_count": 157,
   "metadata": {},
   "outputs": [
    {
     "name": "stdout",
     "output_type": "stream",
     "text": [
      "나이 : 33 인원수 : 2\n",
      "나이 : 50 인원수 : 2\n",
      "having success\n"
     ]
    }
   ],
   "source": [
    "between_group_by_having()"
   ]
  },
  {
   "cell_type": "code",
   "execution_count": 160,
   "metadata": {},
   "outputs": [
    {
     "data": {
      "text/plain": [
       "<sqlite3.Cursor at 0x502a730>"
      ]
     },
     "execution_count": 160,
     "metadata": {},
     "output_type": "execute_result"
    }
   ],
   "source": [
    "db = sqlite3.connect('sql_test1.db')\n",
    "cur = db.cursor()\n",
    "sql = \"create table department(id auto increment, department text)\"\n",
    "cur.execute(sql)"
   ]
  },
  {
   "cell_type": "code",
   "execution_count": 184,
   "metadata": {},
   "outputs": [],
   "source": [
    "def insert_department():\n",
    "    try:\n",
    "        db = sqlite3.connect('sql_test1.db')\n",
    "        cur = db.cursor()\n",
    "        sql = \"insert into department (id,department) values(?,?)\"\n",
    "        dn = [(1,'기획'),(2,'재정'),(3,'인사'),(4,'총무'),(5,'개발'),(6,'혁신'),(7,'창조')]\n",
    "        cur.executemany(sql,dn)\n",
    "        db.commit()\n",
    "        db.close()\n",
    "        print(\"insert success\")\n",
    "    except Exception as err:\n",
    "        print('error',err)"
   ]
  },
  {
   "cell_type": "code",
   "execution_count": 186,
   "metadata": {
    "scrolled": true
   },
   "outputs": [
    {
     "name": "stdout",
     "output_type": "stream",
     "text": [
      "insert success\n"
     ]
    }
   ],
   "source": [
    "insert_department()"
   ]
  },
  {
   "cell_type": "code",
   "execution_count": 187,
   "metadata": {},
   "outputs": [
    {
     "data": {
      "text/plain": [
       "<sqlite3.Cursor at 0x4d56ce0>"
      ]
     },
     "execution_count": 187,
     "metadata": {},
     "output_type": "execute_result"
    }
   ],
   "source": [
    "db = sqlite3.connect('sql_test1.db')\n",
    "cur = db.cursor()\n",
    "sql = \"create table employee(num int, name text, age int, id int, salary int)\"\n",
    "cur.execute(sql)"
   ]
  },
  {
   "cell_type": "code",
   "execution_count": 188,
   "metadata": {
    "collapsed": true
   },
   "outputs": [],
   "source": [
    "def insert_member():\n",
    "    try:\n",
    "        db = sqlite3.connect('sql_test1.db')\n",
    "        cur = db.cursor()\n",
    "        sql = \"insert into employee (num, name, age, id, salary) values(?,?,?,?,?)\"\n",
    "        dn = [(1,'폴2',32,1,2000),\n",
    "              (2,'알렌2',32,2,2000),\n",
    "              (3,'폴2',32,7,2000),\n",
    "              (4,'알렌2',32,7,2000),\n",
    "              (5,'테디2',32,3,2000),\n",
    "              (6,'마크2',32,3,2000),\n",
    "              (7,'다윗2',32,5,2000),\n",
    "              (8,'김2',32,4,2000),\n",
    "              (9,'폴3',32,7,2000),\n",
    "              (10,'테디2',32,3,2000),\n",
    "              (11,'마크2',32,4,2000),\n",
    "              (12,'다윗2',32,1,2000),\n",
    "              (13,'김2',32,2,2000),\n",
    "              (14,'제임스2',32,4,2000),\n",
    "              (15,'제임스2',32,2,2000),\n",
    "              (16,'폴3',32,0,2000),\n",
    "              (17,'알렌2',32,0,2000)]\n",
    "        cur.executemany(sql,dn)\n",
    "        db.commit()\n",
    "        db.close()\n",
    "        print(\"insert success\")\n",
    "    except Exception as err:\n",
    "        print('error',err)"
   ]
  },
  {
   "cell_type": "code",
   "execution_count": 189,
   "metadata": {},
   "outputs": [
    {
     "name": "stdout",
     "output_type": "stream",
     "text": [
      "insert success\n"
     ]
    }
   ],
   "source": [
    "insert_member()"
   ]
  },
  {
   "cell_type": "code",
   "execution_count": 197,
   "metadata": {},
   "outputs": [],
   "source": [
    "def innerJoin_select_Table():\n",
    "    try :\n",
    "        conn = sqlite3.connect('sql_test1.db')\n",
    "        cur = conn.cursor()\n",
    "        sql = \"select em.name, dt.department FROM department as dt INNER JOIN employee as em ON dt.id = em.id\"\n",
    "        cur.execute(sql)\n",
    "        \n",
    "        for i in cur : \n",
    "            print(i)\n",
    "        conn.close()\n",
    "        print(\"select success\")\n",
    "    except Exception as err : \n",
    "        print('error ', err)"
   ]
  },
  {
   "cell_type": "code",
   "execution_count": 198,
   "metadata": {},
   "outputs": [
    {
     "name": "stdout",
     "output_type": "stream",
     "text": [
      "('다윗2', '기획')\n",
      "('폴2', '기획')\n",
      "('김2', '재정')\n",
      "('알렌2', '재정')\n",
      "('제임스2', '재정')\n",
      "('마크2', '인사')\n",
      "('테디2', '인사')\n",
      "('테디2', '인사')\n",
      "('김2', '총무')\n",
      "('마크2', '총무')\n",
      "('제임스2', '총무')\n",
      "('다윗2', '개발')\n",
      "('알렌2', '창조')\n",
      "('폴2', '창조')\n",
      "('폴3', '창조')\n",
      "select success\n"
     ]
    }
   ],
   "source": [
    "innerJoin_select_Table()"
   ]
  },
  {
   "cell_type": "code",
   "execution_count": 203,
   "metadata": {
    "collapsed": true
   },
   "outputs": [],
   "source": [
    "def outerJoin_select_Table():\n",
    "    try :\n",
    "        conn = sqlite3.connect('sql_test1.db')\n",
    "        cur = conn.cursor()\n",
    "        sql = \"select em.name, dt.department FROM department as dt OUTER JOIN employee as em ON dt.id = em.id\"\n",
    "        cur.execute(sql)\n",
    "        \n",
    "        for i in cur : \n",
    "            print(i)\n",
    "        conn.close()\n",
    "        print(\"select success\")\n",
    "    except Exception as err : \n",
    "        print('error ', err)"
   ]
  },
  {
   "cell_type": "code",
   "execution_count": 204,
   "metadata": {},
   "outputs": [
    {
     "name": "stdout",
     "output_type": "stream",
     "text": [
      "error  RIGHT and FULL OUTER JOINs are not currently supported\n"
     ]
    }
   ],
   "source": [
    "outerJoin_select_Table()"
   ]
  },
  {
   "cell_type": "code",
   "execution_count": null,
   "metadata": {
    "collapsed": true
   },
   "outputs": [],
   "source": []
  }
 ],
 "metadata": {
  "kernelspec": {
   "display_name": "Python 3",
   "language": "python",
   "name": "python3"
  },
  "language_info": {
   "codemirror_mode": {
    "name": "ipython",
    "version": 3
   },
   "file_extension": ".py",
   "mimetype": "text/x-python",
   "name": "python",
   "nbconvert_exporter": "python",
   "pygments_lexer": "ipython3",
   "version": "3.6.1"
  }
 },
 "nbformat": 4,
 "nbformat_minor": 2
}
