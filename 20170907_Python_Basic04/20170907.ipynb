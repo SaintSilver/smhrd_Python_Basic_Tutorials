{
 "cells": [
  {
   "cell_type": "markdown",
   "metadata": {},
   "source": [
    "#Dictionary"
   ]
  },
  {
   "cell_type": "code",
   "execution_count": null,
   "metadata": {
    "collapsed": true
   },
   "outputs": [],
   "source": []
  },
  {
   "cell_type": "code",
   "execution_count": 1,
   "metadata": {},
   "outputs": [
    {
     "name": "stdout",
     "output_type": "stream",
     "text": [
      "['hi']\n",
      "b\n"
     ]
    },
    {
     "data": {
      "text/plain": [
       "{1: ['hi'], 2: 'b', 'name': 'pcw', 3: [1, 2, 3]}"
      ]
     },
     "execution_count": 1,
     "metadata": {},
     "output_type": "execute_result"
    }
   ],
   "source": [
    "a={1:['hi']}\n",
    "print(a[1])\n",
    "\n",
    "#키의 추가 (값으로 리스트도 넣을 수 있다.)\n",
    "a[2] = 'b'\n",
    "print(a[2])\n",
    "a['name']='pcw'\n",
    "a[3] =[1,2,3]\n",
    "a"
   ]
  },
  {
   "cell_type": "code",
   "execution_count": 2,
   "metadata": {},
   "outputs": [
    {
     "name": "stdout",
     "output_type": "stream",
     "text": [
      "홍길동\n",
      "7\n",
      "초급\n"
     ]
    }
   ],
   "source": [
    "#실습, Dictionary 정의하고 키를 통해 값을 추출해보기\n",
    "\n",
    "dict = {'Name':'홍길동','Age':7,'Class':'초급'}\n",
    "print(dict['Name'])\n",
    "print(dict['Age'])\n",
    "print(dict['Class'])"
   ]
  },
  {
   "cell_type": "code",
   "execution_count": 3,
   "metadata": {},
   "outputs": [
    {
     "name": "stdout",
     "output_type": "stream",
     "text": [
      "dict_keys(['강감찬', '이순신', '김구'])\n",
      "dict_values(['010-2212-3212', '010-8796-5412', '010-5512-1575'])\n"
     ]
    }
   ],
   "source": [
    "phone_book = {\"강감찬\":\"010-2212-3212\",\"이순신\":\"010-8796-5412\",\"김구\":\"010-5512-1575\"}\n",
    "print(phone_book.keys())\n",
    "print(phone_book.values())\n",
    "\n",
    "#파이선에서는 모든 변수를 객체로 취급한다."
   ]
  },
  {
   "cell_type": "code",
   "execution_count": 4,
   "metadata": {
    "scrolled": true
   },
   "outputs": [
    {
     "name": "stdout",
     "output_type": "stream",
     "text": [
      "강감찬 010-2212-3212\n",
      "김구 010-5512-1575\n",
      "이순신 010-8796-5412\n"
     ]
    }
   ],
   "source": [
    "#Dictionary & Interation (sorting by function \"sorted\")\n",
    "\n",
    "for key in sorted(phone_book.keys()):\n",
    "    print(key,phone_book[key])\n"
   ]
  },
  {
   "cell_type": "markdown",
   "metadata": {},
   "source": [
    "Function About Dictionary(Using function \"list\")"
   ]
  },
  {
   "cell_type": "code",
   "execution_count": 5,
   "metadata": {},
   "outputs": [
    {
     "data": {
      "text/plain": [
       "[('name', 'pey'), ('phone', '01012341111'), ('birth', '1118')]"
      ]
     },
     "execution_count": 5,
     "metadata": {},
     "output_type": "execute_result"
    }
   ],
   "source": [
    "#Dictionary 를 LIST 로 변환 후 함수작업하기(\"list\"함수)\n",
    "#Dictionary는 크기를 변경할 수 없다. cf)append 함수를 사용할 수 없다.\n",
    "\n",
    "a = {'name':'pey','phone':'01012341111','birth':'1118'}\n",
    "list(a.keys())\n",
    "list(a.values())\n",
    "list(a.items())"
   ]
  },
  {
   "cell_type": "code",
   "execution_count": 6,
   "metadata": {},
   "outputs": [],
   "source": [
    "#값을 지우기 .clear()\n",
    "#특정 키값으로 값을 추출하기 .get('keyName')\n",
    "#해당 키가 Dictionary 안에 있는지 조사하기 'name' in a Q. 그렇다면 키만 검색하는가?\n",
    "\n",
    "a = {'name':'pey','phone':'01012341111','birth':'1118'}"
   ]
  },
  {
   "cell_type": "code",
   "execution_count": 18,
   "metadata": {},
   "outputs": [
    {
     "name": "stdout",
     "output_type": "stream",
     "text": [
      "단어를 입력하세요two\n",
      "둘\n",
      "둘\n"
     ]
    }
   ],
   "source": [
    "english_dict = {\"one\":\"하나\",\"two\":\"둘\",\"three\":\"셋\"}\n",
    "\n",
    "input_eng_word = input(\"단어를 입력하세요\")\n",
    "\n",
    "print(english_dict[input_eng_word])\n",
    "print(english_dict.get(input_eng_word))"
   ]
  },
  {
   "cell_type": "code",
   "execution_count": 26,
   "metadata": {},
   "outputs": [
    {
     "name": "stdout",
     "output_type": "stream",
     "text": [
      "물건의 이름을 입력하시오:펜\n",
      "3\n",
      "3\n"
     ]
    },
    {
     "data": {
      "text/plain": [
       "6"
      ]
     },
     "execution_count": 26,
     "metadata": {},
     "output_type": "execute_result"
    }
   ],
   "source": [
    "items = {\"커피음료\":7,\"펜\":3,\"종이컵\":2,\"우유\":1,\"콜라\":4,\"책\":5}\n",
    "item =input(\"물건의 이름을 입력하시오:\")\n",
    "\n",
    "print(items[item]) #함수를 이용하지 않는\n",
    "print(items.get(item)) #.get 함수를 이용하여\n",
    "len(items)"
   ]
  },
  {
   "cell_type": "code",
   "execution_count": 29,
   "metadata": {},
   "outputs": [
    {
     "ename": "SyntaxError",
     "evalue": "invalid syntax (<ipython-input-29-fffb1b7e17f9>, line 6)",
     "output_type": "error",
     "traceback": [
      "\u001b[1;36m  File \u001b[1;32m\"<ipython-input-29-fffb1b7e17f9>\"\u001b[1;36m, line \u001b[1;32m6\u001b[0m\n\u001b[1;33m    if i<0 or :\u001b[0m\n\u001b[1;37m              ^\u001b[0m\n\u001b[1;31mSyntaxError\u001b[0m\u001b[1;31m:\u001b[0m invalid syntax\n"
     ]
    }
   ],
   "source": [
    "#사용자로부터 5개 숫자를 읽어 리스트에 저장하고 평균 계산하기\n",
    "alist = []\n",
    "sum = 0\n",
    "while True:\n",
    "    i=int(input(\"정수를 입력하세요(음수입력:종료):\"))\n",
    "    if i<0 or :\n",
    "        break\n",
    "    alist.append(i)\n",
    "    \n",
    "for i in alist:\n",
    "    sum += i\n",
    "    avg = sum/len(alist) #len 함수는 인수로 주어진 배열의 크기를 구해준다. len 함수는 dictionary 에도 적용되는 것 같다.\n",
    "    \n",
    "print(\"평균:\",avg)"
   ]
  },
  {
   "cell_type": "markdown",
   "metadata": {},
   "source": [
    "# set type (집합 자료형)"
   ]
  },
  {
   "cell_type": "markdown",
   "metadata": {},
   "source": [
    "Set은 자료 중 중복을 허락하지 않는다. index가 없다(순서가 없다)."
   ]
  },
  {
   "cell_type": "markdown",
   "metadata": {},
   "source": [
    "Set의 인수로 문자를(\"Hello\")를 주게 되면 문자를 분할하여 인식하며 중복은 제거한다."
   ]
  },
  {
   "cell_type": "code",
   "execution_count": 35,
   "metadata": {},
   "outputs": [
    {
     "name": "stdout",
     "output_type": "stream",
     "text": [
      "[1, 2, 3]\n",
      "(1, 2, 3)\n"
     ]
    }
   ],
   "source": [
    "s1 = set([1,2,3,1])\n",
    "li = list(s1) # set 를 list 함수로 써주면 list 로 바꾸어준다. 이로부터 순서가 없는 set 를 index를 활용하여 쓸 수 있다.\n",
    "tu = tuple(s1) #튜플로 바꾸어줄 수도 있다. \n",
    "\n",
    "print(li)\n",
    "print(tu)"
   ]
  },
  {
   "cell_type": "markdown",
   "metadata": {},
   "source": [
    "set은 집합 자료형(수학에서의)으로서 집합연산이 가능하다.\n",
    "s1.intersection(s2)\n",
    "    #교집합(s1 set 와 s2 set 의 연산)\n",
    ".union()\n",
    "    #합집합\n",
    ".difference()\n",
    "    #차집합\n",
    ".add()\n",
    "    #원소추가\n",
    ".update()\n",
    "    #집합추가\n",
    ".remove()\n",
    "    #특정원소제거"
   ]
  },
  {
   "cell_type": "markdown",
   "metadata": {},
   "source": [
    "# 파일처리 (open 함수)"
   ]
  },
  {
   "cell_type": "code",
   "execution_count": 46,
   "metadata": {},
   "outputs": [
    {
     "name": "stdout",
     "output_type": "stream",
     "text": [
      "홍길동 010-1234-5678\n",
      "김철수 010-1234-1111\n",
      "김영희 010-1234-2222\n",
      "\n"
     ]
    }
   ],
   "source": [
    "infile = open(\"input.txt\",\"r\")\n",
    "#파일이 담길 객체 = open(파일경로, 모드)\n",
    "\n",
    "lines = infile.read()\n",
    "#파일객체의 전체 내용을 불러오기 : .read()\n",
    "print(lines)\n",
    "infile.close()"
   ]
  },
  {
   "cell_type": "code",
   "execution_count": 74,
   "metadata": {},
   "outputs": [
    {
     "name": "stdout",
     "output_type": "stream",
     "text": [
      "홍길동 010-1234-5678\n",
      "\n",
      "['김철수 010-1234-1111\\n', '김영희 010-1234-2222\\n']\n",
      "[]\n"
     ]
    }
   ],
   "source": [
    "infile = open(\"input.txt\",\"r\")\n",
    "\n",
    "    #readline()은 한 줄만 출력한다. \n",
    "lines = infile.readline() \n",
    "print(lines)\n",
    "\n",
    "    #readlines()은 여러줄을 읽어오며, 끝에 \\n이 출력된다.\n",
    "lines = infile.readlines()\n",
    "print(lines)\n",
    "\n",
    "    #\\n기호를 없애주기 위해서 rstrip() 함수를 사용한다.\n",
    "    #(이는 배열에 대해서는 적용되지 않는듯 하다. \n",
    "    #따라서 for 를 이용하여 배열의 값을 하나씩 추출하여 \n",
    "    #rstrip 함수를 사용한다.))\n",
    "lines = infile.readlines()\n",
    "\n",
    "print(lines)\n",
    "\n",
    "infile.close()"
   ]
  },
  {
   "cell_type": "code",
   "execution_count": 84,
   "metadata": {},
   "outputs": [
    {
     "name": "stdout",
     "output_type": "stream",
     "text": [
      "홍길동 010-1234-5678\n",
      "김철수 010-1234-1111\n",
      "김영희 010-1234-2222\n"
     ]
    }
   ],
   "source": [
    "infile = open(\"input.txt\",\"r\")\n",
    "\n",
    "for line in infile:\n",
    "    print(line)\n",
    "\n",
    "for line in infile:\n",
    "    line = line.rstrip()\n",
    "    #rstrip 은 내부의 줄바꿈 기호를 없애준다. (비어있는 줄을 없애는 듯.)\n",
    "    print(line)\n",
    "    \n",
    "infile.close()"
   ]
  },
  {
   "cell_type": "markdown",
   "metadata": {},
   "source": [
    "outfile (파일로 담기)"
   ]
  },
  {
   "cell_type": "code",
   "execution_count": 72,
   "metadata": {
    "collapsed": true
   },
   "outputs": [],
   "source": [
    "#write 모드는 기존 파일을 대체한다. \n",
    "\n",
    "outfile=open(\"processd_file.txt\",\"w\")\n",
    "outfile.write(\"서세원 010-0123-4567\\n\")\n",
    "outfile.close()"
   ]
  },
  {
   "cell_type": "code",
   "execution_count": 85,
   "metadata": {},
   "outputs": [],
   "source": [
    "# \"a\" 모드는 overwrite 모드다. 덮어쓰기.\n",
    "outfile = open(\"processd_file.txt\",\"a\")\n",
    "outfile.write(\"강감찬 010-1234-5681\\n\")\n",
    "outfile.write(\"김유신 010-1234-5134\\n\")\n",
    "outfile.write(\"정약용 010-1254-2145\\n\")\n",
    "outfile.close()"
   ]
  },
  {
   "cell_type": "markdown",
   "metadata": {},
   "source": [
    "단어처리 #split"
   ]
  },
  {
   "cell_type": "code",
   "execution_count": 93,
   "metadata": {},
   "outputs": [
    {
     "name": "stdout",
     "output_type": "stream",
     "text": [
      "All's well that ends well.\n",
      "All's\twell\tthat\tends\twell.\t\n",
      "Bad news travels fast.\n",
      "Bad\tnews\ttravels\tfast.\t\n",
      "Well begun is half done.\n",
      "Well\tbegun\tis\thalf\tdone.\t\n",
      "Birds of a feather flock together.\n",
      "Birds\tof\ta\tfeather\tflock\ttogether.\t\n",
      "\n",
      "\n"
     ]
    }
   ],
   "source": [
    "infile = open(\"proverbs.txt\",\"r\")\n",
    "for line in infile:\n",
    "    line = line.rstrip()\n",
    "    print(line)\n",
    "    word_list = line.split()\n",
    "    for word in word_list:\n",
    "        print(word,end=\"\\t\");\n",
    "    print()\n",
    "infile.close()"
   ]
  },
  {
   "cell_type": "markdown",
   "metadata": {},
   "source": [
    "파일복사하기 #copy, shutil 라이브러리"
   ]
  },
  {
   "cell_type": "code",
   "execution_count": 98,
   "metadata": {},
   "outputs": [
    {
     "data": {
      "text/plain": [
       "'copied_phone.txt'"
      ]
     },
     "execution_count": 98,
     "metadata": {},
     "output_type": "execute_result"
    }
   ],
   "source": [
    "import shutil\n",
    "shutil.copy(\"phones.txt\",\"copied_phone.txt\")\n",
    "#동일한 파일이 있을 때 덮어써진다."
   ]
  },
  {
   "cell_type": "markdown",
   "metadata": {},
   "source": [
    "파일 불러와서 원하는 이름의 파일에 데이터 옮기기"
   ]
  },
  {
   "cell_type": "code",
   "execution_count": 104,
   "metadata": {},
   "outputs": [
    {
     "name": "stdout",
     "output_type": "stream",
     "text": [
      "복사할 파일 이름을 입력해주세요:a\n",
      "복사될 파일 이름을 입력해주세요:a\n"
     ]
    },
    {
     "ename": "FileNotFoundError",
     "evalue": "[Errno 2] No such file or directory: 'a'",
     "output_type": "error",
     "traceback": [
      "\u001b[1;31m---------------------------------------------------------------------------\u001b[0m",
      "\u001b[1;31mFileNotFoundError\u001b[0m                         Traceback (most recent call last)",
      "\u001b[1;32m<ipython-input-104-2725a610ff23>\u001b[0m in \u001b[0;36m<module>\u001b[1;34m()\u001b[0m\n\u001b[0;32m      2\u001b[0m \u001b[0moutfileName\u001b[0m \u001b[1;33m=\u001b[0m \u001b[0minput\u001b[0m\u001b[1;33m(\u001b[0m\u001b[1;34m\"복사될 파일 이름을 입력해주세요:\"\u001b[0m\u001b[1;33m)\u001b[0m\u001b[1;33m\u001b[0m\u001b[0m\n\u001b[0;32m      3\u001b[0m \u001b[1;33m\u001b[0m\u001b[0m\n\u001b[1;32m----> 4\u001b[1;33m \u001b[0minfile\u001b[0m \u001b[1;33m=\u001b[0m \u001b[0mopen\u001b[0m\u001b[1;33m(\u001b[0m\u001b[0minfileName\u001b[0m\u001b[1;33m,\u001b[0m\u001b[1;34m'r'\u001b[0m\u001b[1;33m)\u001b[0m\u001b[1;33m\u001b[0m\u001b[0m\n\u001b[0m\u001b[0;32m      5\u001b[0m \u001b[0moutfile\u001b[0m \u001b[1;33m=\u001b[0m \u001b[0mopen\u001b[0m\u001b[1;33m(\u001b[0m\u001b[0moutfileName\u001b[0m\u001b[1;33m,\u001b[0m\u001b[1;34m'w'\u001b[0m\u001b[1;33m)\u001b[0m\u001b[1;33m\u001b[0m\u001b[0m\n\u001b[0;32m      6\u001b[0m \u001b[1;33m\u001b[0m\u001b[0m\n",
      "\u001b[1;31mFileNotFoundError\u001b[0m: [Errno 2] No such file or directory: 'a'"
     ]
    }
   ],
   "source": [
    "infileName = input(\"복사할 파일 이름을 입력해주세요:\")\n",
    "outfileName = input(\"복사될 파일 이름을 입력해주세요:\")\n",
    "\n",
    "infile = open(infileName,'r')\n",
    "outfile = open(outfileName,'w')\n",
    "\n",
    "s = infile.read()\n",
    "print(s)\n",
    "outfile.write(s)\n",
    "\n",
    "infile.close()\n",
    "outfile.close()"
   ]
  },
  {
   "cell_type": "code",
   "execution_count": 155,
   "metadata": {
    "scrolled": true
   },
   "outputs": [
    {
     "name": "stdout",
     "output_type": "stream",
     "text": [
      "70\n",
      "60\n",
      "55\n",
      "75\n",
      "95\n",
      "80\n",
      "80\n",
      "85\n",
      "100\n",
      "77.77777777777777\n"
     ]
    }
   ],
   "source": [
    "inFileName = \"Sample.txt\"\n",
    "outFileName = \"Result.txt\"\n",
    "\n",
    "inFile = open(inFileName, \"r\")\n",
    "outFile = open(outFileName, \"w\")\n",
    "\n",
    "lines = inFile.readlines()\n",
    "sum = 0\n",
    "for line in lines:\n",
    "    score = int(line)\n",
    "    print(int(line))\n",
    "    sum += score\n",
    "avg = sum / len(lines)\n",
    "print(avg)\n",
    "\n",
    "outFile.write(str(avg))\n",
    "\n",
    "inFile.close()\n",
    "outFile.close()"
   ]
  },
  {
   "cell_type": "markdown",
   "metadata": {},
   "source": [
    "파일 안에 글자 수 세기"
   ]
  },
  {
   "cell_type": "code",
   "execution_count": 184,
   "metadata": {},
   "outputs": [
    {
     "name": "stdout",
     "output_type": "stream",
     "text": [
      "<_io.TextIOWrapper name='proverbs.txt' mode='r' encoding='cp949'>\n",
      "[\"All's well that ends well.\\n\", 'Bad news travels fast.\\n', 'Well begun is half done.\\n', 'Birds of a feather flock together.\\n', '\\n']\n",
      "All's 1\n",
      "well 2\n",
      "that 3\n",
      "ends 4\n",
      "well. 5\n",
      "Bad 6\n",
      "news 7\n",
      "travels 8\n",
      "fast. 9\n",
      "Well 10\n",
      "begun 11\n",
      "is 12\n",
      "half 13\n",
      "done. 14\n",
      "Birds 15\n",
      "of 16\n",
      "a 17\n",
      "feather 18\n",
      "flock 19\n",
      "together. 20\n"
     ]
    }
   ],
   "source": [
    "fileName = \"proverbs.txt\"\n",
    "inFile = open(fileName,\"r\")\n",
    "print(inFile)\n",
    "lines = inFile.readlines()\n",
    "print(lines)\n",
    "count = 0\n",
    "\n",
    "for line in lines:\n",
    "    words = line.split()\n",
    "    for word in words:\n",
    "        count = count +1\n",
    "        print(word,count)\n",
    "\n",
    "count\n",
    "writeFileName = \"number_of_words.txt\"\n",
    "fileWrite = open(writeFileName,\"w\")\n",
    "fileWrite.write(str(count))\n",
    "fileWrite.close()"
   ]
  },
  {
   "cell_type": "code",
   "execution_count": null,
   "metadata": {
    "collapsed": true
   },
   "outputs": [],
   "source": []
  }
 ],
 "metadata": {
  "kernelspec": {
   "display_name": "Python 3",
   "language": "python",
   "name": "python3"
  },
  "language_info": {
   "codemirror_mode": {
    "name": "ipython",
    "version": 3
   },
   "file_extension": ".py",
   "mimetype": "text/x-python",
   "name": "python",
   "nbconvert_exporter": "python",
   "pygments_lexer": "ipython3",
   "version": "3.6.1"
  }
 },
 "nbformat": 4,
 "nbformat_minor": 2
}
