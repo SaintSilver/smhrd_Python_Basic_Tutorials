{
 "cells": [
  {
   "cell_type": "markdown",
   "metadata": {},
   "source": [
    "# Library, numpy"
   ]
  },
  {
   "cell_type": "code",
   "execution_count": 2,
   "metadata": {
    "collapsed": true
   },
   "outputs": [],
   "source": [
    "import numpy as np"
   ]
  },
  {
   "cell_type": "code",
   "execution_count": 3,
   "metadata": {
    "collapsed": true
   },
   "outputs": [],
   "source": [
    "data1 = [6,7.5,8,0,1]"
   ]
  },
  {
   "cell_type": "markdown",
   "metadata": {},
   "source": [
    ".array"
   ]
  },
  {
   "cell_type": "code",
   "execution_count": 4,
   "metadata": {
    "collapsed": true
   },
   "outputs": [],
   "source": [
    "#\n",
    "arr1 =  np.array(data1)"
   ]
  },
  {
   "cell_type": "code",
   "execution_count": 6,
   "metadata": {
    "scrolled": true
   },
   "outputs": [
    {
     "data": {
      "text/plain": [
       "array([ 6. ,  7.5,  8. ,  0. ,  1. ])"
      ]
     },
     "execution_count": 6,
     "metadata": {},
     "output_type": "execute_result"
    }
   ],
   "source": [
    "arr1"
   ]
  },
  {
   "cell_type": "code",
   "execution_count": 14,
   "metadata": {
    "collapsed": true
   },
   "outputs": [],
   "source": [
    "data2 = [[1,2,3],[4,5,6]]"
   ]
  },
  {
   "cell_type": "markdown",
   "metadata": {},
   "source": [
    ".shape"
   ]
  },
  {
   "cell_type": "code",
   "execution_count": null,
   "metadata": {
    "collapsed": true
   },
   "outputs": [],
   "source": [
    "#크기 확인 .shape\n",
    "arr1.shape"
   ]
  },
  {
   "cell_type": "code",
   "execution_count": 61,
   "metadata": {
    "collapsed": true
   },
   "outputs": [],
   "source": [
    "arr2 = np.array(data2)"
   ]
  },
  {
   "cell_type": "code",
   "execution_count": 62,
   "metadata": {},
   "outputs": [
    {
     "data": {
      "text/plain": [
       "(2, 3)"
      ]
     },
     "execution_count": 62,
     "metadata": {},
     "output_type": "execute_result"
    }
   ],
   "source": [
    "arr2.shape"
   ]
  },
  {
   "cell_type": "markdown",
   "metadata": {},
   "source": [
    "모든 성분을 0으로 정의"
   ]
  },
  {
   "cell_type": "code",
   "execution_count": 34,
   "metadata": {},
   "outputs": [
    {
     "data": {
      "text/plain": [
       "array([ 0.,  0.,  0.,  0.,  0.,  0.,  0.,  0.,  0.,  0.])"
      ]
     },
     "execution_count": 34,
     "metadata": {},
     "output_type": "execute_result"
    }
   ],
   "source": [
    "np.zeros(10)"
   ]
  },
  {
   "cell_type": "markdown",
   "metadata": {},
   "source": [
    "모든 성분을 1로 정의"
   ]
  },
  {
   "cell_type": "code",
   "execution_count": 35,
   "metadata": {},
   "outputs": [
    {
     "data": {
      "text/plain": [
       "array([ 1.,  1.,  1.,  1.,  1.,  1.,  1.,  1.,  1.,  1.])"
      ]
     },
     "execution_count": 35,
     "metadata": {},
     "output_type": "execute_result"
    }
   ],
   "source": [
    "np.ones(10)"
   ]
  },
  {
   "cell_type": "markdown",
   "metadata": {},
   "source": [
    "0부터 1씩 증가하며 성분 채우기"
   ]
  },
  {
   "cell_type": "code",
   "execution_count": 106,
   "metadata": {},
   "outputs": [
    {
     "data": {
      "text/plain": [
       "array([0, 1, 2, 3, 4, 5, 6, 7, 8, 9])"
      ]
     },
     "execution_count": 106,
     "metadata": {},
     "output_type": "execute_result"
    }
   ],
   "source": [
    "np.arange(10)"
   ]
  },
  {
   "cell_type": "markdown",
   "metadata": {},
   "source": [
    "Data Type 의 정의(Data Type 을 따로 명시해주지 않으면 자동으로 인식한다.) "
   ]
  },
  {
   "cell_type": "code",
   "execution_count": 26,
   "metadata": {},
   "outputs": [
    {
     "data": {
      "text/plain": [
       "dtype('float64')"
      ]
     },
     "execution_count": 26,
     "metadata": {},
     "output_type": "execute_result"
    }
   ],
   "source": [
    "arr1.dtype"
   ]
  },
  {
   "cell_type": "code",
   "execution_count": 28,
   "metadata": {},
   "outputs": [
    {
     "data": {
      "text/plain": [
       "dtype('int32')"
      ]
     },
     "execution_count": 28,
     "metadata": {},
     "output_type": "execute_result"
    }
   ],
   "source": [
    "arr2.dtype"
   ]
  },
  {
   "cell_type": "code",
   "execution_count": 108,
   "metadata": {},
   "outputs": [
    {
     "data": {
      "text/plain": [
       "dtype('int64')"
      ]
     },
     "execution_count": 108,
     "metadata": {},
     "output_type": "execute_result"
    }
   ],
   "source": [
    "arr=np.array([1,2,3,4,5],dtype=np.int64)\n",
    "arr.dtype"
   ]
  },
  {
   "cell_type": "markdown",
   "metadata": {},
   "source": [
    ".astype"
   ]
  },
  {
   "cell_type": "code",
   "execution_count": 293,
   "metadata": {},
   "outputs": [
    {
     "data": {
      "text/plain": [
       "array([ 1.,  2.,  3.,  4.,  5.])"
      ]
     },
     "execution_count": 293,
     "metadata": {},
     "output_type": "execute_result"
    }
   ],
   "source": [
    "#타입변경\n",
    "np.array([1,2,3,4,5]).astype(float)"
   ]
  },
  {
   "cell_type": "markdown",
   "metadata": {},
   "source": [
    "2차원 배열"
   ]
  },
  {
   "cell_type": "code",
   "execution_count": 39,
   "metadata": {
    "collapsed": true
   },
   "outputs": [],
   "source": [
    "arr12 = np.array([[1,2,3,4],[5,6,7,8]],dtype = np.float64)"
   ]
  },
  {
   "cell_type": "markdown",
   "metadata": {},
   "source": [
    "배열의 연산"
   ]
  },
  {
   "cell_type": "code",
   "execution_count": 44,
   "metadata": {},
   "outputs": [
    {
     "data": {
      "text/plain": [
       "array([[ 10.,  12.,  14.,  16.],\n",
       "       [ 18.,  20.,  22.,  24.]])"
      ]
     },
     "execution_count": 44,
     "metadata": {},
     "output_type": "execute_result"
    }
   ],
   "source": [
    "#배열 사이에 연산을 할 때에는 규칙이 적용된다.(행렬의 크기가 같아야 한다. )\n",
    "\n",
    "arr22 = np.array([[9,10,11,12],[13,14,15,16]], dtype = np.float64)\n",
    "arr12 + arr22"
   ]
  },
  {
   "cell_type": "code",
   "execution_count": 47,
   "metadata": {},
   "outputs": [
    {
     "data": {
      "text/plain": [
       "array([ 12.,  15.,  16.,   0.,   2.])"
      ]
     },
     "execution_count": 47,
     "metadata": {},
     "output_type": "execute_result"
    }
   ],
   "source": [
    "arr1*2"
   ]
  },
  {
   "cell_type": "code",
   "execution_count": 49,
   "metadata": {},
   "outputs": [
    {
     "data": {
      "text/plain": [
       "array([ 1.09372355,  1.10599474,  1.10956947,  0.        ,  1.        ])"
      ]
     },
     "execution_count": 49,
     "metadata": {},
     "output_type": "execute_result"
    }
   ],
   "source": [
    "arr1**0.05"
   ]
  },
  {
   "cell_type": "code",
   "execution_count": 52,
   "metadata": {},
   "outputs": [
    {
     "data": {
      "text/plain": [
       "array([[ 1.        ,  0.5       ,  0.33333333,  0.25      ],\n",
       "       [ 0.2       ,  0.16666667,  0.14285714,  0.125     ]])"
      ]
     },
     "execution_count": 52,
     "metadata": {},
     "output_type": "execute_result"
    }
   ],
   "source": [
    "1/arr12 #divide/0 오류가 생길 수 있음에 주의한다. "
   ]
  },
  {
   "cell_type": "code",
   "execution_count": 55,
   "metadata": {
    "collapsed": true
   },
   "outputs": [],
   "source": [
    "float_arr = arr.astype(np.float)"
   ]
  },
  {
   "cell_type": "code",
   "execution_count": 56,
   "metadata": {},
   "outputs": [
    {
     "data": {
      "text/plain": [
       "array([ 1.,  2.,  3.,  4.,  5.])"
      ]
     },
     "execution_count": 56,
     "metadata": {},
     "output_type": "execute_result"
    }
   ],
   "source": [
    "float_arr"
   ]
  },
  {
   "cell_type": "code",
   "execution_count": 59,
   "metadata": {
    "collapsed": true
   },
   "outputs": [],
   "source": [
    "arr = np.arange(10)"
   ]
  },
  {
   "cell_type": "code",
   "execution_count": 60,
   "metadata": {},
   "outputs": [
    {
     "data": {
      "text/plain": [
       "array([0, 1, 2, 3, 4, 5, 6, 7, 8, 9])"
      ]
     },
     "execution_count": 60,
     "metadata": {},
     "output_type": "execute_result"
    }
   ],
   "source": [
    "arr"
   ]
  },
  {
   "cell_type": "code",
   "execution_count": 66,
   "metadata": {},
   "outputs": [
    {
     "data": {
      "text/plain": [
       "array([0, 1, 2, 3, 4, 5, 6, 7, 8, 9])"
      ]
     },
     "execution_count": 66,
     "metadata": {},
     "output_type": "execute_result"
    }
   ],
   "source": [
    "# 모든 원소 출력\n",
    "arr[:]"
   ]
  },
  {
   "cell_type": "code",
   "execution_count": 69,
   "metadata": {},
   "outputs": [
    {
     "data": {
      "text/plain": [
       "array([2, 3, 4, 5, 6, 7, 8, 9])"
      ]
     },
     "execution_count": 69,
     "metadata": {},
     "output_type": "execute_result"
    }
   ],
   "source": [
    "#특정 순서\n",
    "arr[2:]"
   ]
  },
  {
   "cell_type": "code",
   "execution_count": 71,
   "metadata": {},
   "outputs": [
    {
     "data": {
      "text/plain": [
       "array([3, 4])"
      ]
     },
     "execution_count": 71,
     "metadata": {},
     "output_type": "execute_result"
    }
   ],
   "source": [
    "arr[3:5]"
   ]
  },
  {
   "cell_type": "markdown",
   "metadata": {},
   "source": [
    "2차원 배열의 정의와 범위 출력"
   ]
  },
  {
   "cell_type": "code",
   "execution_count": null,
   "metadata": {
    "collapsed": true
   },
   "outputs": [],
   "source": [
    "#2차원 배열에서의 출력\n",
    "arr2d = np.array([[1,2,3,4],[5,6,7,8],[9,10,11,12],[13,14,15,16]])"
   ]
  },
  {
   "cell_type": "code",
   "execution_count": 78,
   "metadata": {},
   "outputs": [
    {
     "data": {
      "text/plain": [
       "array([11, 12])"
      ]
     },
     "execution_count": 78,
     "metadata": {},
     "output_type": "execute_result"
    }
   ],
   "source": [
    "arr2d[2,2:]"
   ]
  },
  {
   "cell_type": "code",
   "execution_count": 124,
   "metadata": {},
   "outputs": [
    {
     "data": {
      "text/plain": [
       "array([[ 7,  8],\n",
       "       [11, 12]])"
      ]
     },
     "execution_count": 124,
     "metadata": {},
     "output_type": "execute_result"
    }
   ],
   "source": [
    "arr2d[1:3,2:4] #아래 줄과 비교해서 범위 지정시 인덱스 넘버와, 원소 지정시 인덱스 넘버에 살짝 차이가 있는 것 같다. \n",
    "#정리해보면\n",
    "\n",
    "#arr2d[1:3,2:4]\n",
    "#위를 해석해보면 행의 1의 인덱스를 가지는 3을 인덱스로 가지는 행 직전까지 출력한다. \n",
    "#array([[ 5,  6,  7,  8], <-INDEX 1 \n",
    "#       [ 9, 10, 11, 12]]) <- INDEX 2\n",
    "#그리고 열의 2의 인덱스를 가진 열부터 4 직전(3)까지 출력한다. \n",
    "#array([[ 7,  8],\n",
    "#       [11, 12]])\n",
    "    "
   ]
  },
  {
   "cell_type": "code",
   "execution_count": 104,
   "metadata": {},
   "outputs": [
    {
     "name": "stdout",
     "output_type": "stream",
     "text": [
      "1\n",
      "8\n"
     ]
    }
   ],
   "source": [
    "print(arr2d[0,0])\n",
    "print(arr2d[1,3])"
   ]
  },
  {
   "cell_type": "code",
   "execution_count": 82,
   "metadata": {},
   "outputs": [
    {
     "data": {
      "text/plain": [
       "array([[ 1,  2,  3,  4],\n",
       "       [ 5,  6,  7,  8],\n",
       "       [ 9, 10, 11, 12],\n",
       "       [13, 14, 15, 16]])"
      ]
     },
     "execution_count": 82,
     "metadata": {},
     "output_type": "execute_result"
    }
   ],
   "source": [
    "arr2d[:,:]"
   ]
  },
  {
   "cell_type": "code",
   "execution_count": 86,
   "metadata": {},
   "outputs": [
    {
     "data": {
      "text/plain": [
       "array([ 3,  7, 11, 15])"
      ]
     },
     "execution_count": 86,
     "metadata": {},
     "output_type": "execute_result"
    }
   ],
   "source": [
    "arr2d[:,2] #모든 행의 2인 인덱스의 값"
   ]
  },
  {
   "cell_type": "code",
   "execution_count": 88,
   "metadata": {},
   "outputs": [
    {
     "data": {
      "text/plain": [
       "array([[ 1,  2],\n",
       "       [ 5,  6],\n",
       "       [ 9, 10],\n",
       "       [13, 14]])"
      ]
     },
     "execution_count": 88,
     "metadata": {},
     "output_type": "execute_result"
    }
   ],
   "source": [
    "arr2d[:,:2]"
   ]
  },
  {
   "cell_type": "code",
   "execution_count": 109,
   "metadata": {},
   "outputs": [
    {
     "data": {
      "text/plain": [
       "array([[ 0,  0],\n",
       "       [10, 11]])"
      ]
     },
     "execution_count": 109,
     "metadata": {},
     "output_type": "execute_result"
    }
   ],
   "source": [
    "arr2d[1:3,1:3]"
   ]
  },
  {
   "cell_type": "code",
   "execution_count": 100,
   "metadata": {
    "collapsed": true
   },
   "outputs": [],
   "source": [
    "arr2d[:2,1:3]=0"
   ]
  },
  {
   "cell_type": "code",
   "execution_count": 125,
   "metadata": {},
   "outputs": [
    {
     "data": {
      "text/plain": [
       "array([[1, 2, 3, 4],\n",
       "       [5, 6, 7, 8]])"
      ]
     },
     "execution_count": 125,
     "metadata": {},
     "output_type": "execute_result"
    }
   ],
   "source": [
    "arr2d[0:2]"
   ]
  },
  {
   "cell_type": "markdown",
   "metadata": {},
   "source": [
    "Boolean(bool) 타입 배열과 마스크, boolean indexing"
   ]
  },
  {
   "cell_type": "code",
   "execution_count": 137,
   "metadata": {
    "collapsed": true
   },
   "outputs": [],
   "source": [
    "names = np.array([\"charles\",\"kilho\",\"hatoung\",\"charles\",\"kilho\",\"hayoung\",\"kilho\"])\n",
    "data = np.random.rand(7,4)"
   ]
  },
  {
   "cell_type": "code",
   "execution_count": 138,
   "metadata": {},
   "outputs": [
    {
     "data": {
      "text/plain": [
       "array(['charles', 'kilho', 'hatoung', 'charles', 'kilho', 'hayoung',\n",
       "       'kilho'], \n",
       "      dtype='<U7')"
      ]
     },
     "execution_count": 138,
     "metadata": {},
     "output_type": "execute_result"
    }
   ],
   "source": [
    "names"
   ]
  },
  {
   "cell_type": "code",
   "execution_count": 131,
   "metadata": {},
   "outputs": [
    {
     "data": {
      "text/plain": [
       "array([[ 0.18878778,  0.63016904,  0.36068457,  0.67872165],\n",
       "       [ 0.78985206,  0.63771048,  0.9081738 ,  0.56815519],\n",
       "       [ 0.10995535,  0.49132288,  0.05969917,  0.07061317],\n",
       "       [ 0.92569621,  0.22771279,  0.95565321,  0.08937835],\n",
       "       [ 0.55765721,  0.45584392,  0.26258094,  0.45320534],\n",
       "       [ 0.40210705,  0.84517422,  0.8343343 ,  0.32544536],\n",
       "       [ 0.0881235 ,  0.23132655,  0.4266437 ,  0.75930119]])"
      ]
     },
     "execution_count": 131,
     "metadata": {},
     "output_type": "execute_result"
    }
   ],
   "source": [
    "data"
   ]
  },
  {
   "cell_type": "code",
   "execution_count": 139,
   "metadata": {},
   "outputs": [
    {
     "data": {
      "text/plain": [
       "array([ True, False, False,  True, False, False, False], dtype=bool)"
      ]
     },
     "execution_count": 139,
     "metadata": {},
     "output_type": "execute_result"
    }
   ],
   "source": [
    "names == \"charles\""
   ]
  },
  {
   "cell_type": "code",
   "execution_count": 142,
   "metadata": {},
   "outputs": [
    {
     "data": {
      "text/plain": [
       "array([[ 0.69798506,  0.1501275 ,  0.47282214,  0.03283901],\n",
       "       [ 0.21119805,  0.48365417,  0.09203298,  0.418634  ]])"
      ]
     },
     "execution_count": 142,
     "metadata": {},
     "output_type": "execute_result"
    }
   ],
   "source": [
    "data[names == \"charles\",:] #charles 가 포함되어 있는 인덱스가 0,3 이기 때문에 해당하는 열 번호에서 True 를 반환하여 불라와진듯 하다."
   ]
  },
  {
   "cell_type": "code",
   "execution_count": 144,
   "metadata": {},
   "outputs": [
    {
     "data": {
      "text/plain": [
       "array([[ 0.56987246,  0.07792656,  0.8123741 ,  0.54057511],\n",
       "       [ 0.79756291,  0.4903992 ,  0.27678396,  0.48113613],\n",
       "       [ 0.63379203,  0.30555049,  0.12687461,  0.73547649]])"
      ]
     },
     "execution_count": 144,
     "metadata": {},
     "output_type": "execute_result"
    }
   ],
   "source": [
    "data[names == \"kilho\"]"
   ]
  },
  {
   "cell_type": "code",
   "execution_count": 148,
   "metadata": {},
   "outputs": [
    {
     "data": {
      "text/plain": [
       "array([[ 0.69798506,  0.1501275 ,  0.47282214,  0.03283901],\n",
       "       [ 0.56987246,  0.07792656,  0.8123741 ,  0.54057511],\n",
       "       [ 0.21119805,  0.48365417,  0.09203298,  0.418634  ],\n",
       "       [ 0.79756291,  0.4903992 ,  0.27678396,  0.48113613],\n",
       "       [ 0.63379203,  0.30555049,  0.12687461,  0.73547649]])"
      ]
     },
     "execution_count": 148,
     "metadata": {},
     "output_type": "execute_result"
    }
   ],
   "source": [
    "data[(names==\"kilho\")|(names==\"charles\")]"
   ]
  },
  {
   "cell_type": "code",
   "execution_count": 157,
   "metadata": {},
   "outputs": [
    {
     "data": {
      "text/plain": [
       "array([ 0.03283901,  0.54057511,  0.96811017,  0.418634  ,  0.48113613,\n",
       "        0.61330264,  0.73547649])"
      ]
     },
     "execution_count": 157,
     "metadata": {},
     "output_type": "execute_result"
    }
   ],
   "source": [
    "data[:,3]"
   ]
  },
  {
   "cell_type": "code",
   "execution_count": 153,
   "metadata": {},
   "outputs": [
    {
     "data": {
      "text/plain": [
       "array([False, False,  True, False, False, False,  True], dtype=bool)"
      ]
     },
     "execution_count": 153,
     "metadata": {},
     "output_type": "execute_result"
    }
   ],
   "source": [
    "data[:,3]>0.7"
   ]
  },
  {
   "cell_type": "code",
   "execution_count": 155,
   "metadata": {
    "collapsed": true
   },
   "outputs": [],
   "source": [
    "data[:3] #4열값만 보기\n",
    "data[:,3] < 0 #4열상에 0보다 작은 성분 조사 Q. 컴마는 왜 들어갈까?A.(행범위,열범위)에 들어간 컴마를 생각하자. \n",
    "data[data[:,3]<0,:]=0 #4열상에 0보다 작은 성분을 0으로 만들어주기"
   ]
  },
  {
   "cell_type": "markdown",
   "metadata": {},
   "source": [
    "array 관련 함수(cos, sign, floor, sum, std, argmin, cumsum, cumprod 등) ppt 참고"
   ]
  },
  {
   "cell_type": "code",
   "execution_count": 162,
   "metadata": {},
   "outputs": [
    {
     "data": {
      "text/plain": [
       "array([1, 2, 3, 4, 5, 6, 7, 8, 9])"
      ]
     },
     "execution_count": 162,
     "metadata": {},
     "output_type": "execute_result"
    }
   ],
   "source": [
    "arr = np.arange(1,10)\n",
    "arr"
   ]
  },
  {
   "cell_type": "code",
   "execution_count": 164,
   "metadata": {},
   "outputs": [
    {
     "data": {
      "text/plain": [
       "array([ 1.        ,  1.41421356,  1.73205081,  2.        ,  2.23606798,\n",
       "        2.44948974,  2.64575131,  2.82842712,  3.        ])"
      ]
     },
     "execution_count": 164,
     "metadata": {},
     "output_type": "execute_result"
    }
   ],
   "source": [
    "np.sqrt(arr)"
   ]
  },
  {
   "cell_type": "code",
   "execution_count": 166,
   "metadata": {},
   "outputs": [
    {
     "data": {
      "text/plain": [
       "array([ 0.        ,  0.30103   ,  0.47712125,  0.60205999,  0.69897   ,\n",
       "        0.77815125,  0.84509804,  0.90308999,  0.95424251])"
      ]
     },
     "execution_count": 166,
     "metadata": {},
     "output_type": "execute_result"
    }
   ],
   "source": [
    "np.log10(arr)"
   ]
  },
  {
   "cell_type": "code",
   "execution_count": 169,
   "metadata": {
    "collapsed": true
   },
   "outputs": [],
   "source": [
    "x = np.random.rand(8)\n",
    "y=np.random.rand(8)"
   ]
  },
  {
   "cell_type": "code",
   "execution_count": 171,
   "metadata": {},
   "outputs": [
    {
     "data": {
      "text/plain": [
       "array([ 0.7149853 ,  0.89778821,  0.68598346,  0.2131998 ,  0.08262442,\n",
       "        0.50801297,  0.46000677,  0.86958456])"
      ]
     },
     "execution_count": 171,
     "metadata": {},
     "output_type": "execute_result"
    }
   ],
   "source": [
    "x #다시 말하지만, numpy 의 단위값은 array 이다."
   ]
  },
  {
   "cell_type": "code",
   "execution_count": 173,
   "metadata": {},
   "outputs": [
    {
     "data": {
      "text/plain": [
       "array([ 0.18874154,  0.41585945,  0.13867178,  0.56153923,  0.99097645,\n",
       "        0.70442286,  0.20569625,  0.75197328])"
      ]
     },
     "execution_count": 173,
     "metadata": {},
     "output_type": "execute_result"
    }
   ],
   "source": [
    "y"
   ]
  },
  {
   "cell_type": "code",
   "execution_count": 176,
   "metadata": {},
   "outputs": [
    {
     "data": {
      "text/plain": [
       "array([ 0.7149853 ,  0.89778821,  0.68598346,  0.56153923,  0.99097645,\n",
       "        0.70442286,  0.46000677,  0.86958456])"
      ]
     },
     "execution_count": 176,
     "metadata": {},
     "output_type": "execute_result"
    }
   ],
   "source": [
    "np.maximum(x,y) #각 배열의 인덱스에 해당하는 값을 비교하여 큰 값을 출력한다. "
   ]
  },
  {
   "cell_type": "code",
   "execution_count": 177,
   "metadata": {},
   "outputs": [
    {
     "data": {
      "text/plain": [
       "array([ 0.18874154,  0.41585945,  0.13867178,  0.2131998 ,  0.08262442,\n",
       "        0.50801297,  0.20569625,  0.75197328])"
      ]
     },
     "execution_count": 177,
     "metadata": {},
     "output_type": "execute_result"
    }
   ],
   "source": [
    "np.minimum(x,y) #min 과 차이를 생각한다. "
   ]
  },
  {
   "cell_type": "code",
   "execution_count": 186,
   "metadata": {},
   "outputs": [
    {
     "data": {
      "text/plain": [
       "array([[ 0.81107573,  0.79454188,  0.1531779 ,  0.40512563],\n",
       "       [ 0.35785658,  0.67560277,  0.68823027,  0.77919556],\n",
       "       [ 0.33826774,  0.07437203,  0.53517433,  0.94888317],\n",
       "       [ 0.57794291,  0.2527523 ,  0.87345153,  0.38198733],\n",
       "       [ 0.34451758,  0.48715171,  0.36945725,  0.08434967]])"
      ]
     },
     "execution_count": 186,
     "metadata": {},
     "output_type": "execute_result"
    }
   ],
   "source": [
    "#2차원 함수 생성\n",
    "arr = np.random.rand(5,4)\n",
    "arr"
   ]
  },
  {
   "cell_type": "markdown",
   "metadata": {},
   "source": [
    "Axis 개념 (0:열기준, 1:행기준, 2: ), 영어도 기억(row, column)"
   ]
  },
  {
   "cell_type": "code",
   "execution_count": 190,
   "metadata": {},
   "outputs": [
    {
     "data": {
      "text/plain": [
       "9.9331138730555857"
      ]
     },
     "execution_count": 190,
     "metadata": {},
     "output_type": "execute_result"
    }
   ],
   "source": [
    "arr.sum()"
   ]
  },
  {
   "cell_type": "code",
   "execution_count": 192,
   "metadata": {},
   "outputs": [
    {
     "data": {
      "text/plain": [
       "0.074372033430774587"
      ]
     },
     "execution_count": 192,
     "metadata": {},
     "output_type": "execute_result"
    }
   ],
   "source": [
    "arr.min() #minimum 과 차이를 생각한다. "
   ]
  },
  {
   "cell_type": "code",
   "execution_count": 195,
   "metadata": {},
   "outputs": [
    {
     "data": {
      "text/plain": [
       "0.49665569365277928"
      ]
     },
     "execution_count": 195,
     "metadata": {},
     "output_type": "execute_result"
    }
   ],
   "source": [
    "arr.mean()"
   ]
  },
  {
   "cell_type": "code",
   "execution_count": 196,
   "metadata": {
    "collapsed": true
   },
   "outputs": [],
   "source": [
    "#axis 값을 기준으로 합계 구하기"
   ]
  },
  {
   "cell_type": "code",
   "execution_count": 199,
   "metadata": {},
   "outputs": [
    {
     "data": {
      "text/plain": [
       "array([ 2.42966054,  2.28442069,  2.61949128,  2.59954137])"
      ]
     },
     "execution_count": 199,
     "metadata": {},
     "output_type": "execute_result"
    }
   ],
   "source": [
    "#열을 기준으로\n",
    "arr.sum(axis=0)"
   ]
  },
  {
   "cell_type": "code",
   "execution_count": 201,
   "metadata": {},
   "outputs": [
    {
     "data": {
      "text/plain": [
       "array([[ True,  True, False, False],\n",
       "       [False,  True,  True,  True],\n",
       "       [False, False,  True,  True],\n",
       "       [ True, False,  True, False],\n",
       "       [False, False, False, False]], dtype=bool)"
      ]
     },
     "execution_count": 201,
     "metadata": {},
     "output_type": "execute_result"
    }
   ],
   "source": [
    "arr>0.5"
   ]
  },
  {
   "cell_type": "code",
   "execution_count": 203,
   "metadata": {},
   "outputs": [
    {
     "data": {
      "text/plain": [
       "9"
      ]
     },
     "execution_count": 203,
     "metadata": {},
     "output_type": "execute_result"
    }
   ],
   "source": [
    "#위 배열 중 True 의 개수를 구하기\n",
    "(arr>0.5).sum()"
   ]
  },
  {
   "cell_type": "markdown",
   "metadata": {},
   "source": [
    "Data Sorting"
   ]
  },
  {
   "cell_type": "code",
   "execution_count": 214,
   "metadata": {
    "collapsed": true
   },
   "outputs": [],
   "source": [
    "arr = np.random.rand(8)"
   ]
  },
  {
   "cell_type": "code",
   "execution_count": 209,
   "metadata": {},
   "outputs": [
    {
     "data": {
      "text/plain": [
       "array([ 0.05030303,  0.26979591,  0.19977955,  0.36639358,  0.02047019,\n",
       "        0.48963797,  0.74180725,  0.86714546])"
      ]
     },
     "execution_count": 209,
     "metadata": {},
     "output_type": "execute_result"
    }
   ],
   "source": [
    "arr"
   ]
  },
  {
   "cell_type": "code",
   "execution_count": 219,
   "metadata": {},
   "outputs": [
    {
     "data": {
      "text/plain": [
       "array([ 0.06692721,  0.20006613,  0.21829292,  0.26561918,  0.3123285 ,\n",
       "        0.68302605,  0.75584535,  0.86507171])"
      ]
     },
     "execution_count": 219,
     "metadata": {},
     "output_type": "execute_result"
    }
   ],
   "source": [
    "np.sort(arr) #오름차순 정렬 Ascending"
   ]
  },
  {
   "cell_type": "code",
   "execution_count": 221,
   "metadata": {},
   "outputs": [
    {
     "data": {
      "text/plain": [
       "array([ 0.86507171,  0.75584535,  0.68302605,  0.3123285 ,  0.26561918,\n",
       "        0.21829292,  0.20006613,  0.06692721])"
      ]
     },
     "execution_count": 221,
     "metadata": {},
     "output_type": "execute_result"
    }
   ],
   "source": [
    "np.sort(arr)[::-1] #내림차순 정렬 Descending"
   ]
  },
  {
   "cell_type": "code",
   "execution_count": null,
   "metadata": {
    "collapsed": true
   },
   "outputs": [],
   "source": [
    "2차원 배열에서의 정렬"
   ]
  },
  {
   "cell_type": "code",
   "execution_count": 237,
   "metadata": {
    "collapsed": true
   },
   "outputs": [],
   "source": [
    "arr=np.random.rand(5,3)"
   ]
  },
  {
   "cell_type": "code",
   "execution_count": 280,
   "metadata": {},
   "outputs": [
    {
     "data": {
      "text/plain": [
       "array([[ 0.66074698,  0.09804395,  0.76010128],\n",
       "       [ 0.73561377,  0.99930704,  0.26572194],\n",
       "       [ 0.7871641 ,  0.18265612,  0.40318489],\n",
       "       [ 0.74189778,  0.96144286,  0.60167923],\n",
       "       [ 0.06401948,  0.23060229,  0.79827299]])"
      ]
     },
     "execution_count": 280,
     "metadata": {},
     "output_type": "execute_result"
    }
   ],
   "source": [
    "arr"
   ]
  },
  {
   "cell_type": "code",
   "execution_count": 228,
   "metadata": {
    "collapsed": true
   },
   "outputs": [],
   "source": [
    "# 모든 열을 기준으로 정렬하기"
   ]
  },
  {
   "cell_type": "code",
   "execution_count": 284,
   "metadata": {},
   "outputs": [
    {
     "data": {
      "text/plain": [
       "array([[ 0.06401948,  0.09804395,  0.26572194],\n",
       "       [ 0.66074698,  0.18265612,  0.40318489],\n",
       "       [ 0.73561377,  0.23060229,  0.60167923],\n",
       "       [ 0.74189778,  0.96144286,  0.76010128],\n",
       "       [ 0.7871641 ,  0.99930704,  0.79827299]])"
      ]
     },
     "execution_count": 284,
     "metadata": {},
     "output_type": "execute_result"
    }
   ],
   "source": [
    "np.sort(arr,axis = 0)"
   ]
  },
  {
   "cell_type": "code",
   "execution_count": null,
   "metadata": {
    "collapsed": true
   },
   "outputs": [],
   "source": [
    "# 첫 번째 행을 기준으로 정렬하기"
   ]
  },
  {
   "cell_type": "code",
   "execution_count": 282,
   "metadata": {},
   "outputs": [
    {
     "data": {
      "text/plain": [
       "array([[ 0.09804395,  0.66074698,  0.76010128],\n",
       "       [ 0.26572194,  0.73561377,  0.99930704],\n",
       "       [ 0.18265612,  0.40318489,  0.7871641 ],\n",
       "       [ 0.60167923,  0.74189778,  0.96144286],\n",
       "       [ 0.06401948,  0.23060229,  0.79827299]])"
      ]
     },
     "execution_count": 282,
     "metadata": {},
     "output_type": "execute_result"
    }
   ],
   "source": [
    "np.sort(arr,axis = 1)"
   ]
  },
  {
   "cell_type": "code",
   "execution_count": 286,
   "metadata": {
    "collapsed": true
   },
   "outputs": [],
   "source": [
    "large_arr= np.floor(np.random.rand(150)*1000+1)"
   ]
  },
  {
   "cell_type": "code",
   "execution_count": 287,
   "metadata": {},
   "outputs": [
    {
     "data": {
      "text/plain": [
       "array([ 163,  879,  895,  159,  417,  407,   73,  918,  930,   88,   10,\n",
       "        274,  509,  861,  237,  635,  560,  554,  757,   51,  482,  107,\n",
       "        508,  945,  349,  208,  863,  803,  292,  115,    3,  150,  795,\n",
       "        758,  771,  267,  663,   32,  789,  560,  703,  897,   32,  204,\n",
       "        161,  539,   27,  286,  364,  302,   68,   67,   68,  835,  440,\n",
       "        140,  143,  753,  763,  591,  333,  117,  562,  589,  319,  664,\n",
       "        983,  957,  181,  600,   53,  139,  137,  498, 1000,  287,   53,\n",
       "        488,  424,  720,  931,  903,  363,   28,  595,   37,   10,  662,\n",
       "        678,  221,  631,  594,  996,   75,  916,  454,  361,  190,  560,\n",
       "        680,  249,  601,  350,  365,  810,  589,  262,  758,  249,   35,\n",
       "        683,  168,  534,  818,  614,  769,  476,  170,  891,   39,  947,\n",
       "        938,  504,  159,  612,  331,  386,  419,  822,  303,  854,  180,\n",
       "        230,  883,   74,  847,  340,  978,  933,  706,  356,  741,  929,\n",
       "        228,  415,  930,  388,  925,  829,  556])"
      ]
     },
     "execution_count": 287,
     "metadata": {},
     "output_type": "execute_result"
    }
   ],
   "source": [
    "#배열의 int로의 캐스팅은 다음과 같이 구현한다. \n",
    "large_arr.astype(int)"
   ]
  },
  {
   "cell_type": "code",
   "execution_count": 247,
   "metadata": {},
   "outputs": [
    {
     "data": {
      "text/plain": [
       "array([ 0.00146803,  0.00320098,  0.00479832,  0.01103313,  0.01239382,\n",
       "        0.01357768,  0.01508031,  0.0174899 ,  0.02590301,  0.03191573,\n",
       "        0.03364369,  0.04632201,  0.05002554,  0.05504458,  0.07099454,\n",
       "        0.07142291,  0.0771639 ,  0.08655407,  0.08708999,  0.0882829 ,\n",
       "        0.09118799,  0.10777984,  0.11218482,  0.13031123,  0.13944298,\n",
       "        0.1404209 ,  0.15723696,  0.15950615,  0.16716999,  0.17109814,\n",
       "        0.17301522,  0.17403519,  0.17486261,  0.17583269,  0.1798842 ,\n",
       "        0.18588108,  0.20564675,  0.20870185,  0.21654313,  0.22598007,\n",
       "        0.23188499,  0.23530968,  0.23841007,  0.24094481,  0.2539454 ,\n",
       "        0.25548947,  0.25649615,  0.27032073,  0.27333411,  0.28204157,\n",
       "        0.28739169,  0.29138018,  0.30203541,  0.3054559 ,  0.31072167,\n",
       "        0.31101903,  0.31170236,  0.31378441,  0.33455531,  0.33505927,\n",
       "        0.34162471,  0.34193254,  0.34528611,  0.34984746,  0.36175838,\n",
       "        0.38349699,  0.38473409,  0.40252003,  0.40450933,  0.41401301,\n",
       "        0.42305118,  0.42647361,  0.43997123,  0.44078166,  0.44749927,\n",
       "        0.44954562,  0.46072133,  0.46397066,  0.4667647 ,  0.47083851,\n",
       "        0.49161045,  0.49655976,  0.50399998,  0.51412968,  0.52318762,\n",
       "        0.53174345,  0.54068084,  0.54702536,  0.56040349,  0.56069462,\n",
       "        0.57865574,  0.58584303,  0.60545009,  0.61873758,  0.62258869,\n",
       "        0.63343745,  0.63680452,  0.66243259,  0.66964175,  0.67332918,\n",
       "        0.68083174,  0.70077991,  0.70966165,  0.71272495,  0.71285599,\n",
       "        0.72604044,  0.72616381,  0.72894268,  0.7313816 ,  0.73404761,\n",
       "        0.73849747,  0.74956393,  0.75811197,  0.76133518,  0.76723586,\n",
       "        0.76729567,  0.77676461,  0.78075906,  0.78476886,  0.79208929,\n",
       "        0.80629867,  0.80915047,  0.84183128,  0.8489738 ,  0.85122387,\n",
       "        0.85520592,  0.85567946,  0.85682268,  0.85910106,  0.8605537 ,\n",
       "        0.86179918,  0.86533429,  0.86555318,  0.87240358,  0.88049528,\n",
       "        0.88163475,  0.91614905,  0.92733776,  0.93149912,  0.94245594,\n",
       "        0.94953095,  0.95310468,  0.95604349,  0.95827591,  0.96036658,\n",
       "        0.97046507,  0.97984662,  0.99487059,  0.99925085,  0.99932928])"
      ]
     },
     "execution_count": 247,
     "metadata": {},
     "output_type": "execute_result"
    }
   ],
   "source": [
    "#오름차순 정렬\n",
    "np.sort(large_arr)"
   ]
  },
  {
   "cell_type": "code",
   "execution_count": 248,
   "metadata": {},
   "outputs": [
    {
     "data": {
      "text/plain": [
       "array([ 0.99932928,  0.99925085,  0.99487059,  0.97984662,  0.97046507,\n",
       "        0.96036658,  0.95827591,  0.95604349,  0.95310468,  0.94953095,\n",
       "        0.94245594,  0.93149912,  0.92733776,  0.91614905,  0.88163475,\n",
       "        0.88049528,  0.87240358,  0.86555318,  0.86533429,  0.86179918,\n",
       "        0.8605537 ,  0.85910106,  0.85682268,  0.85567946,  0.85520592,\n",
       "        0.85122387,  0.8489738 ,  0.84183128,  0.80915047,  0.80629867,\n",
       "        0.79208929,  0.78476886,  0.78075906,  0.77676461,  0.76729567,\n",
       "        0.76723586,  0.76133518,  0.75811197,  0.74956393,  0.73849747,\n",
       "        0.73404761,  0.7313816 ,  0.72894268,  0.72616381,  0.72604044,\n",
       "        0.71285599,  0.71272495,  0.70966165,  0.70077991,  0.68083174,\n",
       "        0.67332918,  0.66964175,  0.66243259,  0.63680452,  0.63343745,\n",
       "        0.62258869,  0.61873758,  0.60545009,  0.58584303,  0.57865574,\n",
       "        0.56069462,  0.56040349,  0.54702536,  0.54068084,  0.53174345,\n",
       "        0.52318762,  0.51412968,  0.50399998,  0.49655976,  0.49161045,\n",
       "        0.47083851,  0.4667647 ,  0.46397066,  0.46072133,  0.44954562,\n",
       "        0.44749927,  0.44078166,  0.43997123,  0.42647361,  0.42305118,\n",
       "        0.41401301,  0.40450933,  0.40252003,  0.38473409,  0.38349699,\n",
       "        0.36175838,  0.34984746,  0.34528611,  0.34193254,  0.34162471,\n",
       "        0.33505927,  0.33455531,  0.31378441,  0.31170236,  0.31101903,\n",
       "        0.31072167,  0.3054559 ,  0.30203541,  0.29138018,  0.28739169,\n",
       "        0.28204157,  0.27333411,  0.27032073,  0.25649615,  0.25548947,\n",
       "        0.2539454 ,  0.24094481,  0.23841007,  0.23530968,  0.23188499,\n",
       "        0.22598007,  0.21654313,  0.20870185,  0.20564675,  0.18588108,\n",
       "        0.1798842 ,  0.17583269,  0.17486261,  0.17403519,  0.17301522,\n",
       "        0.17109814,  0.16716999,  0.15950615,  0.15723696,  0.1404209 ,\n",
       "        0.13944298,  0.13031123,  0.11218482,  0.10777984,  0.09118799,\n",
       "        0.0882829 ,  0.08708999,  0.08655407,  0.0771639 ,  0.07142291,\n",
       "        0.07099454,  0.05504458,  0.05002554,  0.04632201,  0.03364369,\n",
       "        0.03191573,  0.02590301,  0.0174899 ,  0.01508031,  0.01357768,\n",
       "        0.01239382,  0.01103313,  0.00479832,  0.00320098,  0.00146803])"
      ]
     },
     "execution_count": 248,
     "metadata": {},
     "output_type": "execute_result"
    }
   ],
   "source": [
    "#내림차순 정렬\n",
    "np.sort(large_arr)[::-1]"
   ]
  }
 ],
 "metadata": {
  "kernelspec": {
   "display_name": "Python 3",
   "language": "python",
   "name": "python3"
  },
  "language_info": {
   "codemirror_mode": {
    "name": "ipython",
    "version": 3
   },
   "file_extension": ".py",
   "mimetype": "text/x-python",
   "name": "python",
   "nbconvert_exporter": "python",
   "pygments_lexer": "ipython3",
   "version": "3.6.1"
  }
 },
 "nbformat": 4,
 "nbformat_minor": 2
}
