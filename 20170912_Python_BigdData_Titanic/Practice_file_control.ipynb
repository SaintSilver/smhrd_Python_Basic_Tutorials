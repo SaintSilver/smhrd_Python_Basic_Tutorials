{
 "cells": [
  {
   "cell_type": "markdown",
   "metadata": {},
   "source": [
    ".read()"
   ]
  },
  {
   "cell_type": "markdown",
   "metadata": {},
   "source": [
    ".readline() #출력 결과 : 정렬된 형태"
   ]
  },
  {
   "cell_type": "markdown",
   "metadata": {},
   "source": [
    ".readlines() #출력 결과 : LIST 의 형태, 값의 끝에는 \\n 붙어있음"
   ]
  },
  {
   "cell_type": "code",
   "execution_count": 104,
   "metadata": {},
   "outputs": [
    {
     "name": "stdout",
     "output_type": "stream",
     "text": [
      "김철수 010-1234-1111\n",
      "\n",
      "['김영희 010-1234-2222\\n', '사오정 010-1234-5678\\n', '오달수 010-1234-1111\\n', '육달건 010-1234-2222\\n', '칠득이 010-1234-5678\\n', '팔푼이 010-1234-1111\\n', '구자슥 010-1234-2222\\n', '십장생 010-1234-5678\\n', '십일조 010-1234-1111\\n', '십이지 010-1234-2222\\n']\n",
      "\n"
     ]
    },
    {
     "ename": "AttributeError",
     "evalue": "'str' object has no attribute 'dtype'",
     "output_type": "error",
     "traceback": [
      "\u001b[1;31m---------------------------------------------------------------------------\u001b[0m",
      "\u001b[1;31mAttributeError\u001b[0m                            Traceback (most recent call last)",
      "\u001b[1;32m<ipython-input-104-bfbef89e8ee4>\u001b[0m in \u001b[0;36m<module>\u001b[1;34m()\u001b[0m\n\u001b[0;32m     11\u001b[0m \u001b[0mprint\u001b[0m\u001b[1;33m(\u001b[0m\u001b[0mline_3\u001b[0m\u001b[1;33m)\u001b[0m\u001b[1;33m\u001b[0m\u001b[0m\n\u001b[0;32m     12\u001b[0m \u001b[0mprint\u001b[0m\u001b[1;33m(\u001b[0m\u001b[0mline_all\u001b[0m\u001b[1;33m)\u001b[0m\u001b[1;33m\u001b[0m\u001b[0m\n\u001b[1;32m---> 13\u001b[1;33m \u001b[0mline2\u001b[0m\u001b[1;33m.\u001b[0m\u001b[0mdtype\u001b[0m\u001b[1;33m(\u001b[0m\u001b[1;33m)\u001b[0m\u001b[1;33m\u001b[0m\u001b[0m\n\u001b[0m",
      "\u001b[1;31mAttributeError\u001b[0m: 'str' object has no attribute 'dtype'"
     ]
    }
   ],
   "source": [
    "infile = open(\"input.txt\", \"r\") #객체생성\n",
    "line_1= infile.readline() #객체의 정보 입력 (첫 줄만 입력)\n",
    "line_2= infile.readline() #객체의 정보 입력 (첫 줄만 입력)\n",
    "line_3= infile.readlines() #객체의 정보 입력 (첫 줄만 입력)\n",
    "line_all = infile.read() #객체의 정보 입력(모든 줄 입력)\n",
    "#.read(0 와 #.readlines 와의 차이)\n",
    "infile.close() #객체 종료\n",
    "\n",
    "\n",
    "print(line_2)\n",
    "print(line_3)\n",
    "print(line_all)"
   ]
  },
  {
   "cell_type": "markdown",
   "metadata": {},
   "source": [
    "infile 객체의 사용"
   ]
  },
  {
   "cell_type": "markdown",
   "metadata": {},
   "source": [
    ".rstrip() 은 값 중에서 \\n 을 없애준다."
   ]
  },
  {
   "cell_type": "code",
   "execution_count": 37,
   "metadata": {},
   "outputs": [
    {
     "name": "stdout",
     "output_type": "stream",
     "text": [
      "홍길동 010-1234-5678\n",
      "\n",
      "김철수 010-1234-1111\n",
      "\n",
      "김영희 010-1234-2222\n",
      "\n",
      "사오정 010-1234-5678\n",
      "\n",
      "오달수 010-1234-1111\n",
      "\n",
      "육달건 010-1234-2222\n",
      "\n",
      "칠득이 010-1234-5678\n",
      "\n",
      "팔푼이 010-1234-1111\n",
      "\n",
      "구자슥 010-1234-2222\n",
      "\n",
      "십장생 010-1234-5678\n",
      "\n",
      "십일조 010-1234-1111\n",
      "\n",
      "십이지 010-1234-2222\n",
      "\n"
     ]
    }
   ],
   "source": [
    "infile = open(\"input.txt\",\"r\")\n",
    "\n",
    "for line in infile:\n",
    "    print(line)\n",
    "    \n",
    "infile.close()"
   ]
  },
  {
   "cell_type": "code",
   "execution_count": 40,
   "metadata": {},
   "outputs": [
    {
     "name": "stdout",
     "output_type": "stream",
     "text": [
      "홍길동 010-1234-5678\n",
      "김철수 010-1234-1111\n",
      "김영희 010-1234-2222\n",
      "사오정 010-1234-5678\n",
      "오달수 010-1234-1111\n",
      "육달건 010-1234-2222\n",
      "칠득이 010-1234-5678\n",
      "팔푼이 010-1234-1111\n",
      "구자슥 010-1234-2222\n",
      "십장생 010-1234-5678\n",
      "십일조 010-1234-1111\n",
      "십이지 010-1234-2222\n"
     ]
    }
   ],
   "source": [
    "infile = open(\"input.txt\",\"r\")\n",
    "\n",
    "for line2 in infile:\n",
    "    print(line2.rstrip())\n",
    "    \n",
    "infile.close()"
   ]
  },
  {
   "cell_type": "markdown",
   "metadata": {},
   "source": [
    ".write()"
   ]
  },
  {
   "cell_type": "markdown",
   "metadata": {},
   "source": [
    "open(\"파일명\", \"모드\"), 모드는 r(읽기), w(기존파일대체), a(이어쓰기)"
   ]
  },
  {
   "cell_type": "code",
   "execution_count": 50,
   "metadata": {
    "collapsed": true
   },
   "outputs": [],
   "source": [
    "outfile = open(\"processed_file.txt\", \"w\")\n",
    "outfile.write(\"서세원 010-0123-4567\\n\")\n",
    "outfile.close()\n",
    "#w 모드는 이전 자료는 모두 삭제하고 새로운 정보가 추가된다."
   ]
  },
  {
   "cell_type": "code",
   "execution_count": 53,
   "metadata": {
    "collapsed": true
   },
   "outputs": [],
   "source": [
    "outfile = open(\"processed_file.txt\",\"a\")\n",
    "outfile.write(\"강감찬 010-1234-5681\\n\")\n",
    "outfile.write(\"김유신 010-1234-5134\\n\")\n",
    "outfile.write(\"정약용 010-1254-2145\\n\")\n",
    "outfile.close()\n",
    "#a 모드는 동일한 텍스트 파일 내에 이전 자료에 이어 계속해서 자료가 추가된다."
   ]
  },
  {
   "cell_type": "markdown",
   "metadata": {},
   "source": [
    ".split() #단어를 띄어쓰기를 단위로 나눠 배열에 담아준다."
   ]
  },
  {
   "cell_type": "markdown",
   "metadata": {},
   "source": [
    "아이디어: 파일을 불러와, 줄 단위로 구분 후, 띄어쓰기를 단위로 배열을 만들어 반복문을 통해 배열을 표시해준다."
   ]
  },
  {
   "cell_type": "markdown",
   "metadata": {},
   "source": [
    "end =\"문자\" #print() 함수의 두 번째 인수로서, 표시할 문자의 맨 뒤에 표시해줄 문자(열)을 지정한다."
   ]
  },
  {
   "cell_type": "code",
   "execution_count": 59,
   "metadata": {
    "scrolled": true
   },
   "outputs": [
    {
     "name": "stdout",
     "output_type": "stream",
     "text": [
      "All's well that ends well.\n",
      "[\"All's\", 'well', 'that', 'ends', 'well.']\n",
      "All's\twell\tthat\tends\twell.\t\n",
      "Bad news travels fast.\n",
      "['Bad', 'news', 'travels', 'fast.']\n",
      "Bad\tnews\ttravels\tfast.\t\n",
      "Well begun is half done.\n",
      "['Well', 'begun', 'is', 'half', 'done.']\n",
      "Well\tbegun\tis\thalf\tdone.\t\n",
      "Birds of a feather flock together.\n",
      "['Birds', 'of', 'a', 'feather', 'flock', 'together.']\n",
      "Birds\tof\ta\tfeather\tflock\ttogether.\t\n",
      "\n",
      "[]\n",
      "\n"
     ]
    }
   ],
   "source": [
    "infile = open(\"proverbs.txt\",\"r\")\n",
    "for line in infile:\n",
    "    line = line.rstrip()\n",
    "    print(line)\n",
    "    word_list = line.split()\n",
    "    print(word_list)\n",
    "    for word in word_list:\n",
    "        print(word,end=\"\\t\");\n",
    "    print()\n",
    "infile.close()"
   ]
  },
  {
   "cell_type": "markdown",
   "metadata": {},
   "source": [
    "파일 불러와서 데이터 추출 후 해당 데이터로 다른 파일 만들기(이동 및 복사)"
   ]
  },
  {
   "cell_type": "markdown",
   "metadata": {},
   "source": [
    "outfile.write(\"입력할 값\")"
   ]
  },
  {
   "cell_type": "markdown",
   "metadata": {},
   "source": [
    "아무래도 이는 기존 파일이 존재하면 바로 대체되는 것 같다. "
   ]
  },
  {
   "cell_type": "code",
   "execution_count": 69,
   "metadata": {},
   "outputs": [
    {
     "name": "stdout",
     "output_type": "stream",
     "text": [
      "복사할 파일 이름input.txt\n",
      "복사될 파일 이름output.txt\n",
      "홍길동 010-1234-5678\n",
      "김철수 010-1234-1111\n",
      "김영희 010-1234-2222\n",
      "사오정 010-1234-5678\n",
      "오달수 010-1234-1111\n",
      "육달건 010-1234-2222\n",
      "칠득이 010-1234-5678\n",
      "팔푼이 010-1234-1111\n",
      "구자슥 010-1234-2222\n",
      "십장생 010-1234-5678\n",
      "십일조 010-1234-1111\n",
      "십이지 010-1234-2222\n",
      "\n"
     ]
    }
   ],
   "source": [
    "infileName = input(\"복사할 파일 이름\")\n",
    "outfileName = input(\"복사될 파일 이름\")\n",
    "\n",
    "infile = open(infileName, 'r')\n",
    "outfile = open(outfileName, 'w')\n",
    "\n",
    "s = infile.read() #infile 객체의 전체 정보 불러오기\n",
    "print(s)\n",
    "outfile.write(s)\n",
    "\n",
    "infile.close()\n",
    "outfile.close()"
   ]
  },
  {
   "cell_type": "markdown",
   "metadata": {},
   "source": [
    "파일 안 글자 수 세기"
   ]
  },
  {
   "cell_type": "code",
   "execution_count": 78,
   "metadata": {},
   "outputs": [
    {
     "name": "stdout",
     "output_type": "stream",
     "text": [
      "[\"All's\", 'well', 'that', 'ends', 'well.']\n",
      "['Bad', 'news', 'travels', 'fast.']\n",
      "['Well', 'begun', 'is', 'half', 'done.']\n",
      "['Birds', 'of', 'a', 'feather', 'flock', 'together.']\n",
      "[]\n"
     ]
    }
   ],
   "source": [
    "fileName = \"proverbs.txt\"\n",
    "inFile = open(fileName, \"r\")\n",
    "lines = inFile.readlines()\n",
    "count = 0\n",
    "\n",
    "for line in lines:\n",
    "    words = line.split()\n",
    "    print(words)\n",
    "    for word in words :\n",
    "        count +=1\n",
    "\n",
    "writeFileName = \"number_of_words.txt\"\n",
    "fileWrite = open(writeFileName,\"w\")\n",
    "fileWrite.write(str(count))\n",
    "fileWrite.close()"
   ]
  },
  {
   "cell_type": "markdown",
   "metadata": {},
   "source": [
    "샘플을 가져와 평균 계산하기"
   ]
  },
  {
   "cell_type": "markdown",
   "metadata": {},
   "source": [
    "for 문 내에서 count 변수를 증가시키며 개수 구하여 구현하기"
   ]
  },
  {
   "cell_type": "markdown",
   "metadata": {},
   "source": [
    "lines 배열의 길이를 구하여 count의 의미를 대체하여 구현하기"
   ]
  },
  {
   "cell_type": "code",
   "execution_count": 97,
   "metadata": {},
   "outputs": [
    {
     "name": "stdout",
     "output_type": "stream",
     "text": [
      "70\n",
      "130\n",
      "185\n",
      "260\n",
      "355\n",
      "435\n",
      "515\n",
      "600\n",
      "700\n",
      "9\n",
      "700\n",
      "77.77777777777777\n"
     ]
    }
   ],
   "source": [
    "inFileName = \"Sample.txt\"\n",
    "outFileName = \"Result.txt\"\n",
    "\n",
    "inFile = open(inFileName, \"r\")\n",
    "outFile = open(outFileName, \"w\")\n",
    "\n",
    "lines = inFile.readlines()\n",
    "\n",
    "count=0\n",
    "sum = 0\n",
    "\n",
    "for line in lines:\n",
    "    count += 1\n",
    "    sum += int(line)\n",
    "    print(sum)\n",
    "    \n",
    "print(count)\n",
    "print(sum)\n",
    "avg = sum/count\n",
    "\n",
    "print(avg)"
   ]
  },
  {
   "cell_type": "code",
   "execution_count": 98,
   "metadata": {},
   "outputs": [
    {
     "name": "stdout",
     "output_type": "stream",
     "text": [
      "70\n",
      "130\n",
      "185\n",
      "260\n",
      "355\n",
      "435\n",
      "515\n",
      "600\n",
      "700\n",
      "9\n",
      "700\n",
      "77.77777777777777\n"
     ]
    }
   ],
   "source": [
    "inFileName = \"Sample.txt\"\n",
    "outFileName = \"Result.txt\"\n",
    "\n",
    "inFile = open(inFileName, \"r\")\n",
    "outFile = open(outFileName, \"w\")\n",
    "\n",
    "lines = inFile.readlines()\n",
    "\n",
    "count=1\n",
    "sum = 0\n",
    "\n",
    "for line in lines:\n",
    "    count += 1\n",
    "    sum += int(line)\n",
    "    print(sum)\n",
    "    \n",
    "print(len(lines))\n",
    "print(sum)\n",
    "avg = sum/len(lines)\n",
    "\n",
    "print(avg)"
   ]
  }
 ],
 "metadata": {
  "kernelspec": {
   "display_name": "Python 3",
   "language": "python",
   "name": "python3"
  },
  "language_info": {
   "codemirror_mode": {
    "name": "ipython",
    "version": 3
   },
   "file_extension": ".py",
   "mimetype": "text/x-python",
   "name": "python",
   "nbconvert_exporter": "python",
   "pygments_lexer": "ipython3",
   "version": "3.6.1"
  }
 },
 "nbformat": 4,
 "nbformat_minor": 2
}
