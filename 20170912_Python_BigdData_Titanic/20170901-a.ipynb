{
 "cells": [
  {
   "cell_type": "code",
   "execution_count": 4,
   "metadata": {},
   "outputs": [
    {
     "data": {
      "text/plain": [
       "5"
      ]
     },
     "execution_count": 4,
     "metadata": {},
     "output_type": "execute_result"
    }
   ],
   "source": [
    "a = 3 \n",
    "b = 2\n",
    "a+b"
   ]
  },
  {
   "cell_type": "code",
   "execution_count": 9,
   "metadata": {},
   "outputs": [
    {
     "name": "stdout",
     "output_type": "stream",
     "text": [
      "3\n"
     ]
    },
    {
     "data": {
      "text/plain": [
       "4"
      ]
     },
     "execution_count": 9,
     "metadata": {},
     "output_type": "execute_result"
    }
   ],
   "source": [
    "a=3\n",
    "print(a)\n",
    "a=a+1\n",
    "a"
   ]
  },
  {
   "cell_type": "code",
   "execution_count": 16,
   "metadata": {},
   "outputs": [
    {
     "data": {
      "text/plain": [
       "54"
      ]
     },
     "execution_count": 16,
     "metadata": {},
     "output_type": "execute_result"
    }
   ],
   "source": [
    "a = 27\n",
    "b = 5\n",
    "a<<1"
   ]
  },
  {
   "cell_type": "code",
   "execution_count": 30,
   "metadata": {
    "scrolled": true
   },
   "outputs": [
    {
     "name": "stdout",
     "output_type": "stream",
     "text": [
      "440\n",
      "466.1637615180899\n",
      "493.8833012561241\n",
      "523.2511306011974\n",
      "554.3652619537443\n",
      "587.3295358348153\n",
      "622.253967444162\n",
      "659.2551138257401\n",
      "698.456462866008\n",
      "739.988845423269\n",
      "783.9908719634989\n",
      "830.6093951598906\n",
      "880.0000000000003\n",
      "932.3275230361802\n",
      "987.7666025122486\n",
      "1046.502261202395\n"
     ]
    }
   ],
   "source": [
    "interval = (2**(1/12))\n",
    "\n",
    "a = 440\n",
    "print(a)\n",
    "a = a*interval\n",
    "print(a)\n",
    "a = a*interval\n",
    "print(a)\n",
    "a = a*interval\n",
    "print(a)\n",
    "a = a*interval\n",
    "print(a)\n",
    "a = a*interval\n",
    "print(a)\n",
    "a = a*interval\n",
    "print(a)\n",
    "a = a*interval\n",
    "print(a)\n",
    "a = a*interval\n",
    "print(a)\n",
    "a = a*interval\n",
    "print(a)\n",
    "a = a*interval\n",
    "print(a)\n",
    "a = a*interval\n",
    "print(a)\n",
    "a = a*interval\n",
    "print(a)\n",
    "a = a*interval\n",
    "print(a)\n",
    "a = a*interval\n",
    "print(a)\n",
    "a = a*interval\n",
    "print(a)"
   ]
  },
  {
   "cell_type": "code",
   "execution_count": null,
   "metadata": {
    "collapsed": true
   },
   "outputs": [],
   "source": []
  },
  {
   "cell_type": "code",
   "execution_count": 32,
   "metadata": {},
   "outputs": [
    {
     "data": {
      "text/plain": [
       "'Hello'"
      ]
     },
     "execution_count": 32,
     "metadata": {},
     "output_type": "execute_result"
    }
   ],
   "source": [
    "'Hello'"
   ]
  },
  {
   "cell_type": "code",
   "execution_count": 34,
   "metadata": {},
   "outputs": [
    {
     "data": {
      "text/plain": [
       "'Hello'"
      ]
     },
     "execution_count": 34,
     "metadata": {},
     "output_type": "execute_result"
    }
   ],
   "source": [
    "\"Hello\""
   ]
  },
  {
   "cell_type": "code",
   "execution_count": 38,
   "metadata": {},
   "outputs": [
    {
     "name": "stdout",
     "output_type": "stream",
     "text": [
      "Python's favorite food is Apple\n"
     ]
    }
   ],
   "source": [
    "Food = \"Python's favorite food is Apple\"\n",
    "print(Food)\n"
   ]
  },
  {
   "cell_type": "code",
   "execution_count": 40,
   "metadata": {},
   "outputs": [
    {
     "name": "stdout",
     "output_type": "stream",
     "text": [
      "\"Python is very easy\". He says.\n"
     ]
    }
   ],
   "source": [
    "Say = '\"Python is very easy\". He says.'\n",
    "print(Say)"
   ]
  },
  {
   "cell_type": "code",
   "execution_count": 2,
   "metadata": {
    "scrolled": true
   },
   "outputs": [
    {
     "name": "stdout",
     "output_type": "stream",
     "text": [
      "a\n"
     ]
    }
   ],
   "source": [
    "print(\"a\")"
   ]
  },
  {
   "cell_type": "code",
   "execution_count": 47,
   "metadata": {},
   "outputs": [
    {
     "data": {
      "text/plain": [
       "'12'"
      ]
     },
     "execution_count": 47,
     "metadata": {},
     "output_type": "execute_result"
    }
   ],
   "source": [
    "\"1\" + '2'"
   ]
  },
  {
   "cell_type": "markdown",
   "metadata": {},
   "source": [
    "##포멧팅"
   ]
  },
  {
   "cell_type": "code",
   "execution_count": 50,
   "metadata": {},
   "outputs": [
    {
     "data": {
      "text/plain": [
       "'Shayne ate 3 bannas for 5 days'"
      ]
     },
     "execution_count": 50,
     "metadata": {},
     "output_type": "execute_result"
    }
   ],
   "source": [
    "bannas = 3\n",
    "days = 5\n",
    "\"Shayne ate {0} bannas for {1} days\".format(bannas,days)"
   ]
  },
  {
   "cell_type": "code",
   "execution_count": 58,
   "metadata": {},
   "outputs": [
    {
     "data": {
      "text/plain": [
       "'HJ ate plenty of bannas for 10 days at Starbucks'"
      ]
     },
     "execution_count": 58,
     "metadata": {},
     "output_type": "execute_result"
    }
   ],
   "source": [
    "bannas = \"plenty of\"\n",
    "days = 10\n",
    "at = \"Starbucks\"\n",
    "\"HJ ate {0} bannas for {1} days at {2}\". format(bannas, days, at)"
   ]
  },
  {
   "cell_type": "code",
   "execution_count": 59,
   "metadata": {
    "collapsed": true
   },
   "outputs": [],
   "source": [
    "model_a = 4.345345"
   ]
  },
  {
   "cell_type": "code",
   "execution_count": 63,
   "metadata": {},
   "outputs": [
    {
     "data": {
      "text/plain": [
       "'A=4.345, B=4.55'"
      ]
     },
     "execution_count": 63,
     "metadata": {},
     "output_type": "execute_result"
    }
   ],
   "source": [
    "model_b=4.5453451\n",
    "\"A={0:.3f}, B={1:.2f}\". format(model_a, model_b)\n"
   ]
  },
  {
   "cell_type": "markdown",
   "metadata": {},
   "source": [
    "아무거나"
   ]
  },
  {
   "cell_type": "code",
   "execution_count": 72,
   "metadata": {},
   "outputs": [
    {
     "name": "stdout",
     "output_type": "stream",
     "text": [
      "H\n",
      "r\n",
      "llo\n",
      "\n"
     ]
    }
   ],
   "source": [
    "message = \"Hello World\"\n",
    "message\n",
    "print(message[0])\n",
    "print(message[-3])\n",
    "print(message[2:5])\n",
    "print(message[-2:3])"
   ]
  },
  {
   "cell_type": "code",
   "execution_count": 74,
   "metadata": {},
   "outputs": [
    {
     "data": {
      "text/plain": [
       "True"
      ]
     },
     "execution_count": 74,
     "metadata": {},
     "output_type": "execute_result"
    }
   ],
   "source": [
    "\"W\" in message"
   ]
  },
  {
   "cell_type": "code",
   "execution_count": 78,
   "metadata": {},
   "outputs": [
    {
     "name": "stdout",
     "output_type": "stream",
     "text": [
      "True\n",
      "False\n"
     ]
    }
   ],
   "source": [
    "print (\"W\" in message)\n",
    "print (\"a\" in message)"
   ]
  },
  {
   "cell_type": "code",
   "execution_count": 84,
   "metadata": {},
   "outputs": [
    {
     "name": "stdout",
     "output_type": "stream",
     "text": [
      "1\n",
      "[5, 7]\n"
     ]
    }
   ],
   "source": [
    "odd = [1,3,5,7,9]\n",
    "print(odd[0])\n",
    "print(odd[2:4]) #2:4 에서 2는 start index, 4는 stop index, 즉 stop index 는 실행하지 않는다."
   ]
  },
  {
   "cell_type": "code",
   "execution_count": 85,
   "metadata": {},
   "outputs": [
    {
     "name": "stdout",
     "output_type": "stream",
     "text": [
      "True\n"
     ]
    }
   ],
   "source": [
    "print(1 in odd)"
   ]
  },
  {
   "cell_type": "code",
   "execution_count": 88,
   "metadata": {},
   "outputs": [
    {
     "name": "stdout",
     "output_type": "stream",
     "text": [
      "False\n"
     ]
    }
   ],
   "source": [
    "print(50in odd)"
   ]
  },
  {
   "cell_type": "code",
   "execution_count": 95,
   "metadata": {
    "collapsed": true
   },
   "outputs": [],
   "source": [
    "odd.append(11)"
   ]
  },
  {
   "cell_type": "code",
   "execution_count": 105,
   "metadata": {
    "scrolled": true
   },
   "outputs": [
    {
     "name": "stdout",
     "output_type": "stream",
     "text": [
      "words\n",
      "['Hello', 'world']\n"
     ]
    }
   ],
   "source": [
    "words=[\"Hello\",\"world\"]\n",
    "print(\"words\")\n",
    "print(words)\n"
   ]
  },
  {
   "cell_type": "markdown",
   "metadata": {},
   "source": [
    "##제어문"
   ]
  },
  {
   "cell_type": "code",
   "execution_count": 119,
   "metadata": {},
   "outputs": [
    {
     "name": "stdout",
     "output_type": "stream",
     "text": [
      "어른\n"
     ]
    }
   ],
   "source": [
    "age = 52\n",
    "if age<5:\n",
    "    print(\"아이\")\n",
    "elif age<18:\n",
    "    print(\"학생\")\n",
    "else:\n",
    "    print(\"어른\")"
   ]
  },
  {
   "cell_type": "code",
   "execution_count": 123,
   "metadata": {},
   "outputs": [
    {
     "name": "stdout",
     "output_type": "stream",
     "text": [
      "green\n",
      "pink\n",
      "blue\n",
      "black\n",
      "green\n",
      "pink\n",
      "blue\n",
      "black\n"
     ]
    }
   ],
   "source": [
    "color = ['green', 'pink', 'blue', 'black']\n",
    "print(color[0])\n",
    "print(color[1])\n",
    "print(color[2])\n",
    "print(color[3])\n",
    "for stuff in color:\n",
    "    print(stuff)\n",
    "\n",
    "\n",
    "    "
   ]
  },
  {
   "cell_type": "code",
   "execution_count": 125,
   "metadata": {},
   "outputs": [
    {
     "name": "stdout",
     "output_type": "stream",
     "text": [
      "0\n",
      "1\n",
      "2\n",
      "3\n",
      "4\n",
      "5\n",
      "6\n",
      "7\n"
     ]
    }
   ],
   "source": [
    "for i in range(8):\n",
    "    print(i);"
   ]
  },
  {
   "cell_type": "code",
   "execution_count": 129,
   "metadata": {},
   "outputs": [
    {
     "name": "stdout",
     "output_type": "stream",
     "text": [
      "2\n",
      "3\n",
      "4\n",
      "5\n"
     ]
    }
   ],
   "source": [
    "for i in range(2,8):\n",
    "    if i == 6:\n",
    "        break\n",
    "    print(i)"
   ]
  },
  {
   "cell_type": "code",
   "execution_count": 131,
   "metadata": {},
   "outputs": [
    {
     "name": "stdout",
     "output_type": "stream",
     "text": [
      "1\n",
      "2\n",
      "4\n",
      "5\n"
     ]
    }
   ],
   "source": [
    "for i in range(1,7):\n",
    "    if i==3:\n",
    "        continue\n",
    "    if i==6:\n",
    "        break\n",
    "    print(i)\n"
   ]
  },
  {
   "cell_type": "code",
   "execution_count": 134,
   "metadata": {},
   "outputs": [
    {
     "name": "stdout",
     "output_type": "stream",
     "text": [
      "2\n",
      "4\n",
      "8\n",
      "10\n"
     ]
    }
   ],
   "source": [
    "for i in range(1,10):\n",
    "    if i==3:\n",
    "        continue\n",
    "    if i==6:\n",
    "        break\n",
    "    double=i*2\n",
    "    print(double)"
   ]
  },
  {
   "cell_type": "code",
   "execution_count": 165,
   "metadata": {},
   "outputs": [
    {
     "name": "stdout",
     "output_type": "stream",
     "text": [
      "4905\n"
     ]
    }
   ],
   "source": [
    "abc=0\n",
    "for i in range(10,100):\n",
    "    abc = abc+i\n",
    "print(abc)\n"
   ]
  },
  {
   "cell_type": "code",
   "execution_count": 158,
   "metadata": {},
   "outputs": [
    {
     "name": "stdout",
     "output_type": "stream",
     "text": [
      "[1, 3, 5, 7, 3, 6, 9, 12, 18, 21]\n"
     ]
    }
   ],
   "source": [
    "a_list = [1,3,5,7]\n",
    "for i in range (1,10):\n",
    "    if i ==5:\n",
    "        continue\n",
    "    if i ==8:\n",
    "        break\n",
    "    a_list.append(i*3)\n",
    "print(a_list)"
   ]
  },
  {
   "cell_type": "code",
   "execution_count": 159,
   "metadata": {},
   "outputs": [
    {
     "name": "stdout",
     "output_type": "stream",
     "text": [
      "12\n"
     ]
    }
   ],
   "source": [
    "#def->define\n",
    "def multiply(a,b):\n",
    "    c=a*b\n",
    "    return c\n",
    "print(multiply(3,4))\n"
   ]
  },
  {
   "cell_type": "code",
   "execution_count": 166,
   "metadata": {},
   "outputs": [
    {
     "name": "stdout",
     "output_type": "stream",
     "text": [
      "음수\n",
      "0\n",
      "양수\n"
     ]
    }
   ],
   "source": [
    "def sign(n):\n",
    "    if n>0:\n",
    "        return '양수'\n",
    "    if n<0:\n",
    "        return '음수'\n",
    "    else:\n",
    "        return '0'\n",
    "\n",
    "for n in [-1,0,1]:\n",
    "    print(sign(n))"
   ]
  },
  {
   "cell_type": "code",
   "execution_count": 171,
   "metadata": {},
   "outputs": [
    {
     "name": "stdout",
     "output_type": "stream",
     "text": [
      "음수\n",
      "음수\n",
      "음수\n",
      "0\n",
      "양수\n",
      "양수\n"
     ]
    }
   ],
   "source": [
    "for n in range(-3,3):\n",
    "    print(sign(n))"
   ]
  },
  {
   "cell_type": "code",
   "execution_count": 208,
   "metadata": {},
   "outputs": [
    {
     "name": "stdout",
     "output_type": "stream",
     "text": [
      "24\n",
      "24\n"
     ]
    }
   ],
   "source": [
    "def factorial(nn):\n",
    "    result=1\n",
    "    for i in range(1,nn+1):\n",
    "        result = result*i\n",
    "    return result\n",
    "\n",
    "print(factorial(4))\n",
    "print(result) #다른 함수의 결과도 가져올 수 있나? \n",
    "\n"
   ]
  },
  {
   "cell_type": "code",
   "execution_count": 3,
   "metadata": {},
   "outputs": [
    {
     "name": "stdout",
     "output_type": "stream",
     "text": [
      "5040\n"
     ]
    }
   ],
   "source": [
    "def factorial(n):\n",
    "    result=1\n",
    "    for i in range(1,n+1):\n",
    "        result =result*i\n",
    "    return result\n",
    "print(factorial(7))\n",
    "        "
   ]
  },
  {
   "cell_type": "code",
   "execution_count": 193,
   "metadata": {},
   "outputs": [
    {
     "name": "stdout",
     "output_type": "stream",
     "text": [
      "Life is too short\n",
      "You need python\n"
     ]
    }
   ],
   "source": [
    "multiline = '''Life is too short\n",
    "You need python'''\n",
    "\n",
    "print(multiline)"
   ]
  }
 ],
 "metadata": {
  "kernelspec": {
   "display_name": "Python 3",
   "language": "python",
   "name": "python3"
  },
  "language_info": {
   "codemirror_mode": {
    "name": "ipython",
    "version": 3
   },
   "file_extension": ".py",
   "mimetype": "text/x-python",
   "name": "python",
   "nbconvert_exporter": "python",
   "pygments_lexer": "ipython3",
   "version": "3.6.1"
  }
 },
 "nbformat": 4,
 "nbformat_minor": 2
}
