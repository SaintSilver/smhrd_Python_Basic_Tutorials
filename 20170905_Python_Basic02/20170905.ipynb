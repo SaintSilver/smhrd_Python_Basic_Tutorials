{
 "cells": [
  {
   "cell_type": "code",
   "execution_count": 1,
   "metadata": {},
   "outputs": [
    {
     "name": "stdout",
     "output_type": "stream",
     "text": [
      "가격은 1000 이며, 200 개 있고, water 상태입니다.\n"
     ]
    }
   ],
   "source": [
    "price = 1000\n",
    "number = 200\n",
    "state = \"water\"\n",
    "print((\"가격은 %s 이며, %s 개 있고, %s 상태입니다.\")%(price, number,state))"
   ]
  },
  {
   "cell_type": "code",
   "execution_count": 2,
   "metadata": {},
   "outputs": [
    {
     "name": "stdout",
     "output_type": "stream",
     "text": [
      "점수를 입력하세요 :f\n"
     ]
    },
    {
     "ename": "ValueError",
     "evalue": "invalid literal for int() with base 10: 'f'",
     "output_type": "error",
     "traceback": [
      "\u001b[1;31m---------------------------------------------------------------------------\u001b[0m",
      "\u001b[1;31mValueError\u001b[0m                                Traceback (most recent call last)",
      "\u001b[1;32m<ipython-input-2-3f1b78d2402c>\u001b[0m in \u001b[0;36m<module>\u001b[1;34m()\u001b[0m\n\u001b[0;32m      1\u001b[0m \u001b[1;31m# Grade System\u001b[0m\u001b[1;33m\u001b[0m\u001b[1;33m\u001b[0m\u001b[0m\n\u001b[0;32m      2\u001b[0m \u001b[1;33m\u001b[0m\u001b[0m\n\u001b[1;32m----> 3\u001b[1;33m \u001b[0mnum\u001b[0m \u001b[1;33m=\u001b[0m \u001b[0mint\u001b[0m\u001b[1;33m(\u001b[0m\u001b[0minput\u001b[0m\u001b[1;33m(\u001b[0m\u001b[1;34m\"점수를 입력하세요 :\"\u001b[0m\u001b[1;33m)\u001b[0m\u001b[1;33m)\u001b[0m\u001b[1;33m\u001b[0m\u001b[0m\n\u001b[0m\u001b[0;32m      4\u001b[0m \u001b[1;33m\u001b[0m\u001b[0m\n\u001b[0;32m      5\u001b[0m \u001b[1;32mif\u001b[0m \u001b[0mnum\u001b[0m \u001b[1;33m>=\u001b[0m \u001b[1;36m90\u001b[0m \u001b[1;33m:\u001b[0m\u001b[1;33m\u001b[0m\u001b[0m\n",
      "\u001b[1;31mValueError\u001b[0m: invalid literal for int() with base 10: 'f'"
     ]
    }
   ],
   "source": [
    "# Grade System\n",
    "\n",
    "num = int(input(\"점수를 입력하세요 :\"))\n",
    "\n",
    "if num >= 90 :\n",
    "    grade = \"A\"\n",
    "elif num >= 80 :\n",
    "    grade = \"B\"\n",
    "elif num >= 70 :\n",
    "    grade = \"C\"\n",
    "elif num >= 60 :\n",
    "    grade = \"D\"\n",
    "else :\n",
    "    grade = \"F\"\n",
    "    \n",
    "print(grade)"
   ]
  },
  {
   "cell_type": "code",
   "execution_count": null,
   "metadata": {},
   "outputs": [],
   "source": [
    "#Day System\n",
    "\n",
    "day = input(\"요일을 입력하세요\")\n",
    "\n",
    "if day == \"일\":\n",
    "    print(\"Sunday\")\n",
    "elif \"day\" == \"월\":\n",
    "    print(\"Monday\")\n",
    "elif day == \"화\":\n",
    "    print(\"Tuesday\")\n",
    "elif day == \"수\":\n",
    "    print(\"Wednesday\")\n",
    "\"elif\" day == \"목\":\n",
    "    print(\"Thursday\")\n",
    "elif day == \"금\":\n",
    "    print(\"\")\n",
    "elif day == \"토\":\n",
    "    print(\"Saturday\")\n",
    "else :\n",
    "    print(\"잘못된 요일이 입력되었습니다.\")"
   ]
  },
  {
   "cell_type": "code",
   "execution_count": null,
   "metadata": {},
   "outputs": [],
   "source": [
    "#이중 조건문\n",
    "a = int(input(\"숫자를 입력하세요\"))\n",
    "\n",
    "if a > 10 :\n",
    "    if a%2 == 0:\n",
    "        print(\"10보다 큰 짝수\")\n",
    "    else:\n",
    "        print(\"10보다 큰 홀수\")\n",
    "else:\n",
    "    if a%2 == 0:\n",
    "        print(\"10보다 작은 짝수\")\n",
    "    else:\n",
    "        print(\"10보다 작은 홀수\")\n",
    "\n",
    "    "
   ]
  },
  {
   "cell_type": "code",
   "execution_count": null,
   "metadata": {},
   "outputs": [],
   "source": [
    "#id를 비교해보기\n",
    "id = \"ilikepython\"\n",
    "pw = \"12345\"\n",
    "s = input(\"아이디를 입력하세요 : \")\n",
    "if s == id:\n",
    "    print(\"환영합니다.\")\n",
    "    p = input(\"패스워드를 입력하세요 : \")\n",
    "    if p==pw:\n",
    "        print(\"로그인되었습니다.\")\n",
    "    else:\n",
    "        print(id+\"님이라면 패스워드를 틀리지 않죠.\")\n",
    "else:\n",
    "    print(\"누구냐 넌?\")"
   ]
  },
  {
   "cell_type": "markdown",
   "metadata": {},
   "source": [
    "# 10~11"
   ]
  },
  {
   "cell_type": "code",
   "execution_count": null,
   "metadata": {},
   "outputs": [],
   "source": [
    "import random\n",
    "#Panalty Kick Game\n",
    "\n",
    "options = [1,2,3]\n",
    "computer_choice = random.choice(options)\n",
    "user_choice = int(input(\"어디를 수비하시겠어요?(왼쪽:1,중앙:2,오른쪽:3)\"))\n",
    "\n",
    "if user_choice == computer_choice:\n",
    "    print(\"수비 성공!\")\n",
    "else:\n",
    "    print(\"축구를 잘 못하시는군요.\")"
   ]
  },
  {
   "cell_type": "code",
   "execution_count": null,
   "metadata": {},
   "outputs": [],
   "source": [
    "#iteration\n",
    "\n",
    "for i in [1,2,3,4,5]:\n",
    "    print(\"방문을 환영합니다.\"+str(i))\n",
    "    "
   ]
  },
  {
   "cell_type": "code",
   "execution_count": null,
   "metadata": {
    "scrolled": true
   },
   "outputs": [],
   "source": [
    "for i in [1,2,3,4,5]:\n",
    "    print(i)"
   ]
  },
  {
   "cell_type": "code",
   "execution_count": null,
   "metadata": {},
   "outputs": [],
   "source": [
    "#구구단출력 (multiplication tables)\n",
    "\n",
    "for a in [1,2,3,4,5,6,7,8,9]:\n",
    "    for b in [1,2,3,4,5,6,7,8,9]:\n",
    "        print(str(a)+\"+\"+str(b)+\"=\"+str(a*b))"
   ]
  },
  {
   "cell_type": "code",
   "execution_count": null,
   "metadata": {},
   "outputs": [],
   "source": [
    "for i in range(1,6,1):\n",
    "    print(i)"
   ]
  },
  {
   "cell_type": "code",
   "execution_count": null,
   "metadata": {
    "scrolled": true
   },
   "outputs": [],
   "source": [
    "n = int(input(\"N! please input N\"))\n",
    "fact = 1\n",
    "for i in range (1,n+1):\n",
    "    fact = fact * i\n",
    "print(n,\"! = \", fact)"
   ]
  },
  {
   "cell_type": "markdown",
   "metadata": {},
   "source": [
    "# 11~12"
   ]
  },
  {
   "cell_type": "code",
   "execution_count": null,
   "metadata": {},
   "outputs": [],
   "source": [
    "#조건 제어 반복 : while\n",
    "password = \"\"\n",
    "while password !=\"pyThonIsFun\":\n",
    "    password = input(\"암호를 입력하세요:\")\n",
    "print(\"로그인 성공\")"
   ]
  },
  {
   "cell_type": "code",
   "execution_count": null,
   "metadata": {},
   "outputs": [],
   "source": [
    "count = 0\n",
    "sum = 0\n",
    "while count<=10:\n",
    "    sum += count\n",
    "    count += 2\n",
    "print(\"합계는\",sum)"
   ]
  },
  {
   "cell_type": "code",
   "execution_count": null,
   "metadata": {},
   "outputs": [],
   "source": [
    "sum = 0\n",
    "for i in range(0,101,2):\n",
    "    sum += i\n",
    "print(\"합계는\",sum)"
   ]
  },
  {
   "cell_type": "code",
   "execution_count": null,
   "metadata": {
    "scrolled": true
   },
   "outputs": [],
   "source": [
    "dan = int(input(\"몇단?\"))\n",
    "\n",
    "for i in range(1,10,1):\n",
    "    print(\"%s × %s = %s\"%(dan,i,dan*i))"
   ]
  },
  {
   "cell_type": "code",
   "execution_count": 7,
   "metadata": {
    "scrolled": true
   },
   "outputs": [
    {
     "name": "stdout",
     "output_type": "stream",
     "text": [
      "정수를 입력하세요(0:종료) : 2\n",
      "정수를 입력하세요(0:종료) : 4\n",
      "정수를 입력하세요(0:종료) : 5\n",
      "정수를 입력하세요(0:종료) : 6\n",
      "정수를 입력하세요(0:종료) : 7\n",
      "정수를 입력하세요(0:종료) : 8\n",
      "정수를 입력하세요(0:종료) : 9\n",
      "정수를 입력하세요(0:종료) : 45\n",
      "정수를 입력하세요(0:종료) : 5\n",
      "정수를 입력하세요(0:종료) : 5\n",
      "정수를 입력하세요(0:종료) : 56\n",
      "정수를 입력하세요(0:종료) : 0\n",
      "지금 까지 입력한 수의 합은 :  152\n"
     ]
    }
   ],
   "source": [
    "inputNum = 3\n",
    "sum = 0\n",
    "\n",
    "while inputNum != 0:\n",
    "    inputNum = int(input(\"정수를 입력하세요(0:종료) : \"))\n",
    "    sum = sum + inputNum \n",
    "\n",
    "print(\"지금 까지 입력한 수의 합은 : \", sum)"
   ]
  },
  {
   "cell_type": "code",
   "execution_count": 10,
   "metadata": {},
   "outputs": [
    {
     "name": "stdout",
     "output_type": "stream",
     "text": [
      "정수를 입력하세요. 다 더해줄게요. 0 입력시 종료합니다.5\n",
      "정수를 입력하세요. 다 더해줄게요. 0 입력시 종료합니다.4\n",
      "정수를 입력하세요. 다 더해줄게요. 0 입력시 종료합니다.5\n",
      "정수를 입력하세요. 다 더해줄게요. 0 입력시 종료합니다.2\n",
      "정수를 입력하세요. 다 더해줄게요. 0 입력시 종료합니다.1\n",
      "정수를 입력하세요. 다 더해줄게요. 0 입력시 종료합니다.3\n",
      "정수를 입력하세요. 다 더해줄게요. 0 입력시 종료합니다.5\n",
      "정수를 입력하세요. 다 더해줄게요. 0 입력시 종료합니다.0\n",
      "25\n"
     ]
    }
   ],
   "source": [
    "inputNum = 0;\n",
    "sum = 0;\n",
    "\n",
    "while True:\n",
    "    inputNum = int(input(\"정수를 입력하세요. 다 더해줄게요. 0 입력시 종료합니다.\"))\n",
    "    sum = sum + inputNum \n",
    "    if inputNum == 0:\n",
    "        break\n",
    "\n",
    "print(sum)"
   ]
  },
  {
   "cell_type": "code",
   "execution_count": 13,
   "metadata": {
    "scrolled": false
   },
   "outputs": [
    {
     "name": "stdout",
     "output_type": "stream",
     "text": [
      "정수입력 : 1\n",
      "정수입력 : 2\n",
      "정수입력 : 3\n",
      "정수입력 : 4\n",
      "정수입력 : 5\n",
      "정수입력 : 6\n",
      "정수입력 : 7\n",
      "정수입력 : 0\n",
      "28\n"
     ]
    }
   ],
   "source": [
    "inputNum = 0\n",
    "sum = 0\n",
    "\n",
    "for i in range(1,1000):\n",
    "    inputNum = int(input(\"정수입력 : \"))\n",
    "    \n",
    "    if inputNum == 0:\n",
    "        break\n",
    "        \n",
    "    sum += inputNum\n",
    "\n",
    "print(sum)"
   ]
  },
  {
   "cell_type": "code",
   "execution_count": null,
   "metadata": {
    "collapsed": true
   },
   "outputs": [],
   "source": []
  }
 ],
 "metadata": {
  "kernelspec": {
   "display_name": "Python 3",
   "language": "python",
   "name": "python3"
  },
  "language_info": {
   "codemirror_mode": {
    "name": "ipython",
    "version": 3
   },
   "file_extension": ".py",
   "mimetype": "text/x-python",
   "name": "python",
   "nbconvert_exporter": "python",
   "pygments_lexer": "ipython3",
   "version": "3.6.1"
  }
 },
 "nbformat": 4,
 "nbformat_minor": 2
}
