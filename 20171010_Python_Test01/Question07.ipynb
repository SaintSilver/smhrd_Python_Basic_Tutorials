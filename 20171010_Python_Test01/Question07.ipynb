{
 "cells": [
  {
   "cell_type": "markdown",
   "metadata": {},
   "source": [
    "# Question07"
   ]
  },
  {
   "cell_type": "code",
   "execution_count": 33,
   "metadata": {},
   "outputs": [
    {
     "data": {
      "text/plain": [
       "[[0, 0, 0, 0],\n",
       " [0, 0, 0, 0],\n",
       " [0, 0, 0, 0],\n",
       " [0, 0, 0, 0],\n",
       " [0, 0, 0, 0],\n",
       " [0, 0, 0, 0]]"
      ]
     },
     "execution_count": 33,
     "metadata": {},
     "output_type": "execute_result"
    }
   ],
   "source": [
    "import numpy as np\n",
    "import random\n",
    "\n",
    "zero = [[0,0,0,0],\n",
    "        [0,0,0,0],\n",
    "        [0,0,0,0],\n",
    "        [0,0,0,0],\n",
    "        [0,0,0,0],\n",
    "        [0,0,0,0]]\n",
    "zero"
   ]
  },
  {
   "cell_type": "code",
   "execution_count": 55,
   "metadata": {},
   "outputs": [
    {
     "data": {
      "text/plain": [
       "[41, 38, 55, 91, 45, 82, 'a']"
      ]
     },
     "execution_count": 55,
     "metadata": {},
     "output_type": "execute_result"
    }
   ],
   "source": [
    "rand_num = [np.random.randint(20,100),\n",
    "            np.random.randint(20,100),\n",
    "            np.random.randint(20,100),\n",
    "            np.random.randint(20,100),\n",
    "            np.random.randint(20,100),\n",
    "            np.random.randint(20,100)]\n",
    "rand_num.append(\"a\")\n",
    "rand_num"
   ]
  },
  {
   "cell_type": "code",
   "execution_count": 49,
   "metadata": {},
   "outputs": [
    {
     "data": {
      "text/plain": [
       "[[96, 97, 98, 99],\n",
       " [68, 69, 70, 71],\n",
       " [41, 42, 43, 44],\n",
       " [68, 69, 70, 71],\n",
       " [66, 67, 68, 69],\n",
       " [94, 95, 96, 97]]"
      ]
     },
     "execution_count": 49,
     "metadata": {},
     "output_type": "execute_result"
    }
   ],
   "source": [
    "for i in [0,1,2,3,4,5]:\n",
    "    zero[i][0] = rand_num[i]\n",
    "    for j in [0,1,2,3]:\n",
    "        zero[i][j]=rand_num[i]+j+1\n",
    "\n",
    "zero"
   ]
  },
  {
   "cell_type": "code",
   "execution_count": 52,
   "metadata": {},
   "outputs": [
    {
     "data": {
      "text/plain": [
       "[[1000, 1000, 1000, 1000],\n",
       " [68, 69, 70, 71],\n",
       " [41, 42, 43, 44],\n",
       " [68, 69, 70, 71],\n",
       " [66, 67, 68, 69],\n",
       " [6000, 6000, 6000, 6000]]"
      ]
     },
     "execution_count": 52,
     "metadata": {},
     "output_type": "execute_result"
    }
   ],
   "source": [
    "for i in [0,1,2,3]:\n",
    "    zero[0][i]=1000\n",
    "    zero[5][i]=6000\n",
    "zero"
   ]
  }
 ],
 "metadata": {
  "kernelspec": {
   "display_name": "Python 3",
   "language": "python",
   "name": "python3"
  },
  "language_info": {
   "codemirror_mode": {
    "name": "ipython",
    "version": 3
   },
   "file_extension": ".py",
   "mimetype": "text/x-python",
   "name": "python",
   "nbconvert_exporter": "python",
   "pygments_lexer": "ipython3",
   "version": "3.6.1"
  }
 },
 "nbformat": 4,
 "nbformat_minor": 2
}
